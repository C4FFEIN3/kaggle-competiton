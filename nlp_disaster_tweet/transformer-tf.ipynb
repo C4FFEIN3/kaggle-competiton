{
 "cells": [
  {
   "cell_type": "code",
   "execution_count": 1,
   "metadata": {
    "_cell_guid": "b1076dfc-b9ad-4769-8c92-a6c4dae69d19",
    "_uuid": "8f2839f25d086af736a60e9eeb907d3b93b6e0e5",
    "execution": {
     "iopub.execute_input": "2020-10-03T14:46:11.173828Z",
     "iopub.status.busy": "2020-10-03T14:46:11.173106Z",
     "iopub.status.idle": "2020-10-03T14:46:16.556469Z",
     "shell.execute_reply": "2020-10-03T14:46:16.557263Z"
    },
    "papermill": {
     "duration": 5.422961,
     "end_time": "2020-10-03T14:46:16.557525",
     "exception": false,
     "start_time": "2020-10-03T14:46:11.134564",
     "status": "completed"
    },
    "tags": []
   },
   "outputs": [
    {
     "name": "stdout",
     "output_type": "stream",
     "text": [
      "/kaggle/input/nlp-getting-started/sample_submission.csv\n",
      "/kaggle/input/nlp-getting-started/test.csv\n",
      "/kaggle/input/nlp-getting-started/train.csv\n"
     ]
    }
   ],
   "source": [
    "import numpy as np # linear algebra\n",
    "import pandas as pd # data processing, CSV file I/O (e.g. pd.read_csv)\n",
    "import re\n",
    "import random\n",
    "\n",
    "import tensorflow as tf\n",
    "from tensorflow import keras\n",
    "from tensorflow.keras import backend as K\n",
    "from tensorflow.keras import layers\n",
    "\n",
    "import os\n",
    "for dirname, _, filenames in os.walk('/kaggle/input'):\n",
    "    for filename in filenames:\n",
    "        print(os.path.join(dirname, filename))\n",
    "\n",
    "# You can write up to 5GB to the current directory (/kaggle/working/) that gets preserved as output when you create a version using \"Save & Run All\" \n",
    "# You can also write temporary files to /kaggle/temp/, but they won't be saved outside of the current session"
   ]
  },
  {
   "cell_type": "code",
   "execution_count": 2,
   "metadata": {
    "execution": {
     "iopub.execute_input": "2020-10-03T14:46:16.649566Z",
     "iopub.status.busy": "2020-10-03T14:46:16.646683Z",
     "iopub.status.idle": "2020-10-03T14:46:16.650467Z",
     "shell.execute_reply": "2020-10-03T14:46:16.651124Z"
    },
    "papermill": {
     "duration": 0.054244,
     "end_time": "2020-10-03T14:46:16.651284",
     "exception": false,
     "start_time": "2020-10-03T14:46:16.597040",
     "status": "completed"
    },
    "tags": []
   },
   "outputs": [],
   "source": [
    "os.environ['PYTHONHASHSEED'] = '123'\n",
    "np.random.seed(123)\n",
    "random.seed(123)\n",
    "tf.random.set_seed(123)"
   ]
  },
  {
   "cell_type": "markdown",
   "metadata": {
    "papermill": {
     "duration": 0.039473,
     "end_time": "2020-10-03T14:46:16.730049",
     "exception": false,
     "start_time": "2020-10-03T14:46:16.690576",
     "status": "completed"
    },
    "tags": []
   },
   "source": [
    "# Data"
   ]
  },
  {
   "cell_type": "code",
   "execution_count": 3,
   "metadata": {
    "execution": {
     "iopub.execute_input": "2020-10-03T14:46:16.793000Z",
     "iopub.status.busy": "2020-10-03T14:46:16.792214Z",
     "iopub.status.idle": "2020-10-03T14:46:16.840617Z",
     "shell.execute_reply": "2020-10-03T14:46:16.839628Z"
    },
    "papermill": {
     "duration": 0.082054,
     "end_time": "2020-10-03T14:46:16.840720",
     "exception": false,
     "start_time": "2020-10-03T14:46:16.758666",
     "status": "completed"
    },
    "tags": []
   },
   "outputs": [
    {
     "data": {
      "text/html": [
       "<div>\n",
       "<style scoped>\n",
       "    .dataframe tbody tr th:only-of-type {\n",
       "        vertical-align: middle;\n",
       "    }\n",
       "\n",
       "    .dataframe tbody tr th {\n",
       "        vertical-align: top;\n",
       "    }\n",
       "\n",
       "    .dataframe thead th {\n",
       "        text-align: right;\n",
       "    }\n",
       "</style>\n",
       "<table border=\"1\" class=\"dataframe\">\n",
       "  <thead>\n",
       "    <tr style=\"text-align: right;\">\n",
       "      <th></th>\n",
       "      <th>id</th>\n",
       "      <th>keyword</th>\n",
       "      <th>location</th>\n",
       "      <th>text</th>\n",
       "      <th>target</th>\n",
       "    </tr>\n",
       "  </thead>\n",
       "  <tbody>\n",
       "    <tr>\n",
       "      <th>0</th>\n",
       "      <td>1</td>\n",
       "      <td>NaN</td>\n",
       "      <td>NaN</td>\n",
       "      <td>Our Deeds are the Reason of this #earthquake M...</td>\n",
       "      <td>1</td>\n",
       "    </tr>\n",
       "    <tr>\n",
       "      <th>1</th>\n",
       "      <td>4</td>\n",
       "      <td>NaN</td>\n",
       "      <td>NaN</td>\n",
       "      <td>Forest fire near La Ronge Sask. Canada</td>\n",
       "      <td>1</td>\n",
       "    </tr>\n",
       "    <tr>\n",
       "      <th>2</th>\n",
       "      <td>5</td>\n",
       "      <td>NaN</td>\n",
       "      <td>NaN</td>\n",
       "      <td>All residents asked to 'shelter in place' are ...</td>\n",
       "      <td>1</td>\n",
       "    </tr>\n",
       "    <tr>\n",
       "      <th>3</th>\n",
       "      <td>6</td>\n",
       "      <td>NaN</td>\n",
       "      <td>NaN</td>\n",
       "      <td>13,000 people receive #wildfires evacuation or...</td>\n",
       "      <td>1</td>\n",
       "    </tr>\n",
       "    <tr>\n",
       "      <th>4</th>\n",
       "      <td>7</td>\n",
       "      <td>NaN</td>\n",
       "      <td>NaN</td>\n",
       "      <td>Just got sent this photo from Ruby #Alaska as ...</td>\n",
       "      <td>1</td>\n",
       "    </tr>\n",
       "  </tbody>\n",
       "</table>\n",
       "</div>"
      ],
      "text/plain": [
       "   id keyword location                                               text  \\\n",
       "0   1     NaN      NaN  Our Deeds are the Reason of this #earthquake M...   \n",
       "1   4     NaN      NaN             Forest fire near La Ronge Sask. Canada   \n",
       "2   5     NaN      NaN  All residents asked to 'shelter in place' are ...   \n",
       "3   6     NaN      NaN  13,000 people receive #wildfires evacuation or...   \n",
       "4   7     NaN      NaN  Just got sent this photo from Ruby #Alaska as ...   \n",
       "\n",
       "   target  \n",
       "0       1  \n",
       "1       1  \n",
       "2       1  \n",
       "3       1  \n",
       "4       1  "
      ]
     },
     "execution_count": 3,
     "metadata": {},
     "output_type": "execute_result"
    }
   ],
   "source": [
    "df_train = pd.read_csv('../input/nlp-getting-started/train.csv')\n",
    "df_train.head()"
   ]
  },
  {
   "cell_type": "code",
   "execution_count": 4,
   "metadata": {
    "execution": {
     "iopub.execute_input": "2020-10-03T14:46:16.908770Z",
     "iopub.status.busy": "2020-10-03T14:46:16.907865Z",
     "iopub.status.idle": "2020-10-03T14:46:16.925926Z",
     "shell.execute_reply": "2020-10-03T14:46:16.925447Z"
    },
    "papermill": {
     "duration": 0.058,
     "end_time": "2020-10-03T14:46:16.926027",
     "exception": false,
     "start_time": "2020-10-03T14:46:16.868027",
     "status": "completed"
    },
    "tags": []
   },
   "outputs": [
    {
     "data": {
      "text/html": [
       "<div>\n",
       "<style scoped>\n",
       "    .dataframe tbody tr th:only-of-type {\n",
       "        vertical-align: middle;\n",
       "    }\n",
       "\n",
       "    .dataframe tbody tr th {\n",
       "        vertical-align: top;\n",
       "    }\n",
       "\n",
       "    .dataframe thead th {\n",
       "        text-align: right;\n",
       "    }\n",
       "</style>\n",
       "<table border=\"1\" class=\"dataframe\">\n",
       "  <thead>\n",
       "    <tr style=\"text-align: right;\">\n",
       "      <th></th>\n",
       "      <th>id</th>\n",
       "      <th>keyword</th>\n",
       "      <th>location</th>\n",
       "      <th>text</th>\n",
       "    </tr>\n",
       "  </thead>\n",
       "  <tbody>\n",
       "    <tr>\n",
       "      <th>0</th>\n",
       "      <td>0</td>\n",
       "      <td>NaN</td>\n",
       "      <td>NaN</td>\n",
       "      <td>Just happened a terrible car crash</td>\n",
       "    </tr>\n",
       "    <tr>\n",
       "      <th>1</th>\n",
       "      <td>2</td>\n",
       "      <td>NaN</td>\n",
       "      <td>NaN</td>\n",
       "      <td>Heard about #earthquake is different cities, s...</td>\n",
       "    </tr>\n",
       "    <tr>\n",
       "      <th>2</th>\n",
       "      <td>3</td>\n",
       "      <td>NaN</td>\n",
       "      <td>NaN</td>\n",
       "      <td>there is a forest fire at spot pond, geese are...</td>\n",
       "    </tr>\n",
       "    <tr>\n",
       "      <th>3</th>\n",
       "      <td>9</td>\n",
       "      <td>NaN</td>\n",
       "      <td>NaN</td>\n",
       "      <td>Apocalypse lighting. #Spokane #wildfires</td>\n",
       "    </tr>\n",
       "    <tr>\n",
       "      <th>4</th>\n",
       "      <td>11</td>\n",
       "      <td>NaN</td>\n",
       "      <td>NaN</td>\n",
       "      <td>Typhoon Soudelor kills 28 in China and Taiwan</td>\n",
       "    </tr>\n",
       "  </tbody>\n",
       "</table>\n",
       "</div>"
      ],
      "text/plain": [
       "   id keyword location                                               text\n",
       "0   0     NaN      NaN                 Just happened a terrible car crash\n",
       "1   2     NaN      NaN  Heard about #earthquake is different cities, s...\n",
       "2   3     NaN      NaN  there is a forest fire at spot pond, geese are...\n",
       "3   9     NaN      NaN           Apocalypse lighting. #Spokane #wildfires\n",
       "4  11     NaN      NaN      Typhoon Soudelor kills 28 in China and Taiwan"
      ]
     },
     "execution_count": 4,
     "metadata": {},
     "output_type": "execute_result"
    }
   ],
   "source": [
    "df_test = pd.read_csv('../input/nlp-getting-started/test.csv')\n",
    "df_test.head()"
   ]
  },
  {
   "cell_type": "code",
   "execution_count": 5,
   "metadata": {
    "execution": {
     "iopub.execute_input": "2020-10-03T14:46:17.010272Z",
     "iopub.status.busy": "2020-10-03T14:46:17.009143Z",
     "iopub.status.idle": "2020-10-03T14:46:21.264626Z",
     "shell.execute_reply": "2020-10-03T14:46:21.263680Z"
    },
    "papermill": {
     "duration": 4.310365,
     "end_time": "2020-10-03T14:46:21.264737",
     "exception": false,
     "start_time": "2020-10-03T14:46:16.954372",
     "status": "completed"
    },
    "tags": []
   },
   "outputs": [
    {
     "data": {
      "text/html": [
       "<div>\n",
       "<style scoped>\n",
       "    .dataframe tbody tr th:only-of-type {\n",
       "        vertical-align: middle;\n",
       "    }\n",
       "\n",
       "    .dataframe tbody tr th {\n",
       "        vertical-align: top;\n",
       "    }\n",
       "\n",
       "    .dataframe thead th {\n",
       "        text-align: right;\n",
       "    }\n",
       "</style>\n",
       "<table border=\"1\" class=\"dataframe\">\n",
       "  <thead>\n",
       "    <tr style=\"text-align: right;\">\n",
       "      <th></th>\n",
       "      <th>id</th>\n",
       "      <th>keyword</th>\n",
       "      <th>location</th>\n",
       "      <th>text</th>\n",
       "      <th>target</th>\n",
       "    </tr>\n",
       "  </thead>\n",
       "  <tbody>\n",
       "    <tr>\n",
       "      <th>0</th>\n",
       "      <td>1</td>\n",
       "      <td>NaN</td>\n",
       "      <td>NaN</td>\n",
       "      <td>our deeds are the reason of this #earthquake m...</td>\n",
       "      <td>1</td>\n",
       "    </tr>\n",
       "    <tr>\n",
       "      <th>1</th>\n",
       "      <td>4</td>\n",
       "      <td>NaN</td>\n",
       "      <td>NaN</td>\n",
       "      <td>forest fire near la ronge sask. canada</td>\n",
       "      <td>1</td>\n",
       "    </tr>\n",
       "    <tr>\n",
       "      <th>2</th>\n",
       "      <td>5</td>\n",
       "      <td>NaN</td>\n",
       "      <td>NaN</td>\n",
       "      <td>all residents asked to 'shelter in place' are ...</td>\n",
       "      <td>1</td>\n",
       "    </tr>\n",
       "    <tr>\n",
       "      <th>3</th>\n",
       "      <td>6</td>\n",
       "      <td>NaN</td>\n",
       "      <td>NaN</td>\n",
       "      <td>13,000 people receive #wildfires evacuation or...</td>\n",
       "      <td>1</td>\n",
       "    </tr>\n",
       "    <tr>\n",
       "      <th>4</th>\n",
       "      <td>7</td>\n",
       "      <td>NaN</td>\n",
       "      <td>NaN</td>\n",
       "      <td>just got sent this photo from ruby #alaska as ...</td>\n",
       "      <td>1</td>\n",
       "    </tr>\n",
       "  </tbody>\n",
       "</table>\n",
       "</div>"
      ],
      "text/plain": [
       "   id keyword location                                               text  \\\n",
       "0   1     NaN      NaN  our deeds are the reason of this #earthquake m...   \n",
       "1   4     NaN      NaN             forest fire near la ronge sask. canada   \n",
       "2   5     NaN      NaN  all residents asked to 'shelter in place' are ...   \n",
       "3   6     NaN      NaN  13,000 people receive #wildfires evacuation or...   \n",
       "4   7     NaN      NaN  just got sent this photo from ruby #alaska as ...   \n",
       "\n",
       "   target  \n",
       "0       1  \n",
       "1       1  \n",
       "2       1  \n",
       "3       1  \n",
       "4       1  "
      ]
     },
     "execution_count": 5,
     "metadata": {},
     "output_type": "execute_result"
    }
   ],
   "source": [
    "for i in df_train.index:\n",
    "    df_train.loc[i, 'text'] = df_train.loc[i, 'text'].lower()\n",
    "df_train.head()"
   ]
  },
  {
   "cell_type": "code",
   "execution_count": 6,
   "metadata": {
    "execution": {
     "iopub.execute_input": "2020-10-03T14:46:21.353001Z",
     "iopub.status.busy": "2020-10-03T14:46:21.328895Z",
     "iopub.status.idle": "2020-10-03T14:46:22.830663Z",
     "shell.execute_reply": "2020-10-03T14:46:22.831497Z"
    },
    "papermill": {
     "duration": 1.537424,
     "end_time": "2020-10-03T14:46:22.831740",
     "exception": false,
     "start_time": "2020-10-03T14:46:21.294316",
     "status": "completed"
    },
    "tags": []
   },
   "outputs": [
    {
     "data": {
      "text/html": [
       "<div>\n",
       "<style scoped>\n",
       "    .dataframe tbody tr th:only-of-type {\n",
       "        vertical-align: middle;\n",
       "    }\n",
       "\n",
       "    .dataframe tbody tr th {\n",
       "        vertical-align: top;\n",
       "    }\n",
       "\n",
       "    .dataframe thead th {\n",
       "        text-align: right;\n",
       "    }\n",
       "</style>\n",
       "<table border=\"1\" class=\"dataframe\">\n",
       "  <thead>\n",
       "    <tr style=\"text-align: right;\">\n",
       "      <th></th>\n",
       "      <th>id</th>\n",
       "      <th>keyword</th>\n",
       "      <th>location</th>\n",
       "      <th>text</th>\n",
       "    </tr>\n",
       "  </thead>\n",
       "  <tbody>\n",
       "    <tr>\n",
       "      <th>0</th>\n",
       "      <td>0</td>\n",
       "      <td>NaN</td>\n",
       "      <td>NaN</td>\n",
       "      <td>just happened a terrible car crash</td>\n",
       "    </tr>\n",
       "    <tr>\n",
       "      <th>1</th>\n",
       "      <td>2</td>\n",
       "      <td>NaN</td>\n",
       "      <td>NaN</td>\n",
       "      <td>heard about #earthquake is different cities, s...</td>\n",
       "    </tr>\n",
       "    <tr>\n",
       "      <th>2</th>\n",
       "      <td>3</td>\n",
       "      <td>NaN</td>\n",
       "      <td>NaN</td>\n",
       "      <td>there is a forest fire at spot pond, geese are...</td>\n",
       "    </tr>\n",
       "    <tr>\n",
       "      <th>3</th>\n",
       "      <td>9</td>\n",
       "      <td>NaN</td>\n",
       "      <td>NaN</td>\n",
       "      <td>apocalypse lighting. #spokane #wildfires</td>\n",
       "    </tr>\n",
       "    <tr>\n",
       "      <th>4</th>\n",
       "      <td>11</td>\n",
       "      <td>NaN</td>\n",
       "      <td>NaN</td>\n",
       "      <td>typhoon soudelor kills 28 in china and taiwan</td>\n",
       "    </tr>\n",
       "  </tbody>\n",
       "</table>\n",
       "</div>"
      ],
      "text/plain": [
       "   id keyword location                                               text\n",
       "0   0     NaN      NaN                 just happened a terrible car crash\n",
       "1   2     NaN      NaN  heard about #earthquake is different cities, s...\n",
       "2   3     NaN      NaN  there is a forest fire at spot pond, geese are...\n",
       "3   9     NaN      NaN           apocalypse lighting. #spokane #wildfires\n",
       "4  11     NaN      NaN      typhoon soudelor kills 28 in china and taiwan"
      ]
     },
     "execution_count": 6,
     "metadata": {},
     "output_type": "execute_result"
    }
   ],
   "source": [
    "for i in df_test.index:\n",
    "    df_test.loc[i, 'text'] = df_test.loc[i, 'text'].lower()\n",
    "df_test.head()"
   ]
  },
  {
   "cell_type": "code",
   "execution_count": 7,
   "metadata": {
    "execution": {
     "iopub.execute_input": "2020-10-03T14:46:22.943690Z",
     "iopub.status.busy": "2020-10-03T14:46:22.942557Z",
     "iopub.status.idle": "2020-10-03T14:46:22.962482Z",
     "shell.execute_reply": "2020-10-03T14:46:22.963719Z"
    },
    "papermill": {
     "duration": 0.082165,
     "end_time": "2020-10-03T14:46:22.963924",
     "exception": false,
     "start_time": "2020-10-03T14:46:22.881759",
     "status": "completed"
    },
    "tags": []
   },
   "outputs": [
    {
     "data": {
      "text/html": [
       "<div>\n",
       "<style scoped>\n",
       "    .dataframe tbody tr th:only-of-type {\n",
       "        vertical-align: middle;\n",
       "    }\n",
       "\n",
       "    .dataframe tbody tr th {\n",
       "        vertical-align: top;\n",
       "    }\n",
       "\n",
       "    .dataframe thead th {\n",
       "        text-align: right;\n",
       "    }\n",
       "</style>\n",
       "<table border=\"1\" class=\"dataframe\">\n",
       "  <thead>\n",
       "    <tr style=\"text-align: right;\">\n",
       "      <th></th>\n",
       "      <th>id</th>\n",
       "      <th>text</th>\n",
       "      <th>target</th>\n",
       "    </tr>\n",
       "  </thead>\n",
       "  <tbody>\n",
       "    <tr>\n",
       "      <th>0</th>\n",
       "      <td>1</td>\n",
       "      <td>our deeds are the reason of this #earthquake m...</td>\n",
       "      <td>1</td>\n",
       "    </tr>\n",
       "    <tr>\n",
       "      <th>1</th>\n",
       "      <td>4</td>\n",
       "      <td>forest fire near la ronge sask. canada</td>\n",
       "      <td>1</td>\n",
       "    </tr>\n",
       "    <tr>\n",
       "      <th>2</th>\n",
       "      <td>5</td>\n",
       "      <td>all residents asked to 'shelter in place' are ...</td>\n",
       "      <td>1</td>\n",
       "    </tr>\n",
       "    <tr>\n",
       "      <th>3</th>\n",
       "      <td>6</td>\n",
       "      <td>13,000 people receive #wildfires evacuation or...</td>\n",
       "      <td>1</td>\n",
       "    </tr>\n",
       "    <tr>\n",
       "      <th>4</th>\n",
       "      <td>7</td>\n",
       "      <td>just got sent this photo from ruby #alaska as ...</td>\n",
       "      <td>1</td>\n",
       "    </tr>\n",
       "  </tbody>\n",
       "</table>\n",
       "</div>"
      ],
      "text/plain": [
       "   id                                               text  target\n",
       "0   1  our deeds are the reason of this #earthquake m...       1\n",
       "1   4             forest fire near la ronge sask. canada       1\n",
       "2   5  all residents asked to 'shelter in place' are ...       1\n",
       "3   6  13,000 people receive #wildfires evacuation or...       1\n",
       "4   7  just got sent this photo from ruby #alaska as ...       1"
      ]
     },
     "execution_count": 7,
     "metadata": {},
     "output_type": "execute_result"
    }
   ],
   "source": [
    "df_train.drop(['keyword', 'location'], axis = 1, inplace=True)\n",
    "df_test.drop(['keyword', 'location'], axis = 1, inplace=True)\n",
    "df_train.head()"
   ]
  },
  {
   "cell_type": "code",
   "execution_count": 8,
   "metadata": {
    "execution": {
     "iopub.execute_input": "2020-10-03T14:46:23.101381Z",
     "iopub.status.busy": "2020-10-03T14:46:23.098510Z",
     "iopub.status.idle": "2020-10-03T14:46:25.287207Z",
     "shell.execute_reply": "2020-10-03T14:46:25.286634Z"
    },
    "papermill": {
     "duration": 2.267463,
     "end_time": "2020-10-03T14:46:25.287332",
     "exception": false,
     "start_time": "2020-10-03T14:46:23.019869",
     "status": "completed"
    },
    "tags": []
   },
   "outputs": [
    {
     "data": {
      "text/plain": [
       "id        0\n",
       "text      0\n",
       "target    0\n",
       "dtype: int64"
      ]
     },
     "execution_count": 8,
     "metadata": {},
     "output_type": "execute_result"
    }
   ],
   "source": [
    "for i in df_train.loc[df_train.text.str.contains('http://[^ ]+|https://[^ ]+|www.[^ ]+')].index:\n",
    "    df_train.loc[i, 'text'] = re.sub('http://[^ ]+|https://[^ ]+|www.[^ ]+', 'URL', df_train.loc[i, 'text'])\n",
    "df_train.loc[df_train.text.str.contains('http://[^ ]+|https://[^ ]+|www.[^ ]+')].count()"
   ]
  },
  {
   "cell_type": "code",
   "execution_count": 9,
   "metadata": {
    "execution": {
     "iopub.execute_input": "2020-10-03T14:46:25.367082Z",
     "iopub.status.busy": "2020-10-03T14:46:25.366160Z",
     "iopub.status.idle": "2020-10-03T14:46:26.079413Z",
     "shell.execute_reply": "2020-10-03T14:46:26.078469Z"
    },
    "papermill": {
     "duration": 0.760857,
     "end_time": "2020-10-03T14:46:26.079529",
     "exception": false,
     "start_time": "2020-10-03T14:46:25.318672",
     "status": "completed"
    },
    "tags": []
   },
   "outputs": [
    {
     "data": {
      "text/plain": [
       "id      0\n",
       "text    0\n",
       "dtype: int64"
      ]
     },
     "execution_count": 9,
     "metadata": {},
     "output_type": "execute_result"
    }
   ],
   "source": [
    "for i in df_test.loc[df_test.text.str.contains('http://[^ ]+|https://[^ ]+|www.[^ ]+')].index:\n",
    "    df_test.loc[i, 'text'] = re.sub('http://[^ ]+|https://[^ ]+|www.[^ ]+', 'URL', df_test.loc[i, 'text'])\n",
    "df_test.loc[df_test.text.str.contains('http://[^ ]+|https://[^ ]+|www.[^ ]+')].count()"
   ]
  },
  {
   "cell_type": "code",
   "execution_count": 10,
   "metadata": {
    "execution": {
     "iopub.execute_input": "2020-10-03T14:46:26.289478Z",
     "iopub.status.busy": "2020-10-03T14:46:26.220551Z",
     "iopub.status.idle": "2020-10-03T14:46:27.232902Z",
     "shell.execute_reply": "2020-10-03T14:46:27.232342Z"
    },
    "papermill": {
     "duration": 1.121443,
     "end_time": "2020-10-03T14:46:27.233040",
     "exception": false,
     "start_time": "2020-10-03T14:46:26.111597",
     "status": "completed"
    },
    "tags": []
   },
   "outputs": [
    {
     "data": {
      "text/plain": [
       "id        2015\n",
       "text      2015\n",
       "target    2015\n",
       "dtype: int64"
      ]
     },
     "execution_count": 10,
     "metadata": {},
     "output_type": "execute_result"
    }
   ],
   "source": [
    "for i in df_train.loc[df_train.text.str.contains('@[^ ]')].index:\n",
    "    df_train.loc[i, 'text'] = re.sub('@[^ ]', '@', df_train.loc[i, 'text'])\n",
    "df_train.loc[df_train.text.str.contains('@[^ ]')].count()"
   ]
  },
  {
   "cell_type": "code",
   "execution_count": 11,
   "metadata": {
    "execution": {
     "iopub.execute_input": "2020-10-03T14:46:27.402188Z",
     "iopub.status.busy": "2020-10-03T14:46:27.312990Z",
     "iopub.status.idle": "2020-10-03T14:46:27.738630Z",
     "shell.execute_reply": "2020-10-03T14:46:27.737686Z"
    },
    "papermill": {
     "duration": 0.469153,
     "end_time": "2020-10-03T14:46:27.738746",
     "exception": false,
     "start_time": "2020-10-03T14:46:27.269593",
     "status": "completed"
    },
    "tags": []
   },
   "outputs": [
    {
     "data": {
      "text/plain": [
       "id      918\n",
       "text    918\n",
       "dtype: int64"
      ]
     },
     "execution_count": 11,
     "metadata": {},
     "output_type": "execute_result"
    }
   ],
   "source": [
    "for i in df_test.loc[df_test.text.str.contains('@[^ ]')].index:\n",
    "    df_test.loc[i, 'text'] = re.sub('@[^ ]', '@', df_test.loc[i, 'text'])\n",
    "df_test.loc[df_test.text.str.contains('@[^ ]')].count()"
   ]
  },
  {
   "cell_type": "code",
   "execution_count": 12,
   "metadata": {
    "execution": {
     "iopub.execute_input": "2020-10-03T14:46:27.811960Z",
     "iopub.status.busy": "2020-10-03T14:46:27.811122Z",
     "iopub.status.idle": "2020-10-03T14:46:32.732804Z",
     "shell.execute_reply": "2020-10-03T14:46:32.733493Z"
    },
    "papermill": {
     "duration": 4.962443,
     "end_time": "2020-10-03T14:46:32.733693",
     "exception": false,
     "start_time": "2020-10-03T14:46:27.771250",
     "status": "completed"
    },
    "tags": []
   },
   "outputs": [
    {
     "name": "stdout",
     "output_type": "stream",
     "text": [
      "23466\n"
     ]
    }
   ],
   "source": [
    "from nltk.corpus import stopwords\n",
    "from nltk.tokenize import word_tokenize\n",
    "from collections import defaultdict\n",
    "\n",
    "stopw = set(stopwords.words('english'))\n",
    "stopw.update(['\\'m'])\n",
    "wordlist = defaultdict(int)\n",
    "for i in df_train.text:\n",
    "    w = word_tokenize(i)\n",
    "    for j in w:\n",
    "        if j in stopw:\n",
    "            continue\n",
    "        wordlist[j] += 1\n",
    "for i in df_test.text:\n",
    "    w = word_tokenize(i)\n",
    "    for j in w:\n",
    "        if j in stopw:\n",
    "            continue\n",
    "        wordlist[j] += 1\n",
    "print(len(wordlist))"
   ]
  },
  {
   "cell_type": "code",
   "execution_count": 13,
   "metadata": {
    "execution": {
     "iopub.execute_input": "2020-10-03T14:46:32.820393Z",
     "iopub.status.busy": "2020-10-03T14:46:32.812793Z",
     "iopub.status.idle": "2020-10-03T14:46:32.830327Z",
     "shell.execute_reply": "2020-10-03T14:46:32.830903Z"
    },
    "papermill": {
     "duration": 0.063873,
     "end_time": "2020-10-03T14:46:32.831027",
     "exception": false,
     "start_time": "2020-10-03T14:46:32.767154",
     "status": "completed"
    },
    "tags": []
   },
   "outputs": [
    {
     "name": "stdout",
     "output_type": "stream",
     "text": [
      "URL 6765\n",
      "# 4820\n",
      "? 4446\n",
      ". 4268\n",
      "@ 4032\n",
      ": 2847\n",
      "! 1666\n",
      "... 1530\n",
      "'s 1117\n",
      "- 1094\n",
      "' 966\n",
      "; 835\n",
      "& 651\n",
      "n't 621\n",
      ") 529\n",
      "amp 510\n",
      "( 504\n",
      "like 489\n",
      "fire 357\n",
      "get 333\n"
     ]
    }
   ],
   "source": [
    "wl = sorted(wordlist, key = lambda x:wordlist[x], reverse = True)\n",
    "for i in range(20):\n",
    "    print(wl[i], wordlist[wl[i]])"
   ]
  },
  {
   "cell_type": "code",
   "execution_count": 14,
   "metadata": {
    "execution": {
     "iopub.execute_input": "2020-10-03T14:46:32.912537Z",
     "iopub.status.busy": "2020-10-03T14:46:32.910654Z",
     "iopub.status.idle": "2020-10-03T14:46:32.915096Z",
     "shell.execute_reply": "2020-10-03T14:46:32.914333Z"
    },
    "papermill": {
     "duration": 0.050688,
     "end_time": "2020-10-03T14:46:32.915217",
     "exception": false,
     "start_time": "2020-10-03T14:46:32.864529",
     "status": "completed"
    },
    "tags": []
   },
   "outputs": [
    {
     "name": "stdout",
     "output_type": "stream",
     "text": [
      "22393\n"
     ]
    }
   ],
   "source": [
    "cnt = 0\n",
    "for i in wl:\n",
    "    if wordlist[i] < 20:\n",
    "        cnt += 1\n",
    "print(cnt)"
   ]
  },
  {
   "cell_type": "code",
   "execution_count": 15,
   "metadata": {
    "execution": {
     "iopub.execute_input": "2020-10-03T14:46:33.001269Z",
     "iopub.status.busy": "2020-10-03T14:46:32.997359Z",
     "iopub.status.idle": "2020-10-03T14:46:33.004961Z",
     "shell.execute_reply": "2020-10-03T14:46:33.005675Z"
    },
    "papermill": {
     "duration": 0.056009,
     "end_time": "2020-10-03T14:46:33.005821",
     "exception": false,
     "start_time": "2020-10-03T14:46:32.949812",
     "status": "completed"
    },
    "tags": []
   },
   "outputs": [
    {
     "name": "stdout",
     "output_type": "stream",
     "text": [
      "9998\n"
     ]
    }
   ],
   "source": [
    "vocab_size = 10000 - 2\n",
    "vocab = {}\n",
    "cnt = 1\n",
    "\n",
    "for i in sorted(list(wordlist.items()), key=lambda x: x[1], reverse=True)[:vocab_size]:\n",
    "    vocab[i[0]] = cnt\n",
    "    cnt += 1\n",
    "print(len(vocab))"
   ]
  },
  {
   "cell_type": "code",
   "execution_count": 16,
   "metadata": {
    "execution": {
     "iopub.execute_input": "2020-10-03T14:46:33.102063Z",
     "iopub.status.busy": "2020-10-03T14:46:33.086697Z",
     "iopub.status.idle": "2020-10-03T14:46:35.539849Z",
     "shell.execute_reply": "2020-10-03T14:46:35.540686Z"
    },
    "papermill": {
     "duration": 2.498505,
     "end_time": "2020-10-03T14:46:35.540881",
     "exception": false,
     "start_time": "2020-10-03T14:46:33.042376",
     "status": "completed"
    },
    "tags": []
   },
   "outputs": [
    {
     "name": "stdout",
     "output_type": "stream",
     "text": [
      "7613\n"
     ]
    }
   ],
   "source": [
    "maxlen = 50\n",
    "\n",
    "train_x = []\n",
    "\n",
    "for i in df_train.index:\n",
    "    W = word_tokenize(df_train.loc[i, 'text'])\n",
    "    for w in range(len(W)):\n",
    "        try:\n",
    "            W[w] = vocab[W[w]]\n",
    "        except:\n",
    "            W[w] = vocab_size\n",
    "    if len(W) < maxlen:\n",
    "        W += [0 for i in range(maxlen-len(W))]\n",
    "    train_x.append(W[:maxlen])\n",
    "print(len(train_x))"
   ]
  },
  {
   "cell_type": "code",
   "execution_count": 17,
   "metadata": {
    "execution": {
     "iopub.execute_input": "2020-10-03T14:46:35.649163Z",
     "iopub.status.busy": "2020-10-03T14:46:35.628946Z",
     "iopub.status.idle": "2020-10-03T14:46:39.933185Z",
     "shell.execute_reply": "2020-10-03T14:46:39.932477Z"
    },
    "papermill": {
     "duration": 4.356736,
     "end_time": "2020-10-03T14:46:39.933342",
     "exception": false,
     "start_time": "2020-10-03T14:46:35.576606",
     "status": "completed"
    },
    "tags": []
   },
   "outputs": [
    {
     "name": "stdout",
     "output_type": "stream",
     "text": [
      "7613\n"
     ]
    }
   ],
   "source": [
    "FullDataset = tf.data.Dataset.from_tensor_slices({'x':train_x, 'y':df_train['target']})\n",
    "FullDataset = FullDataset.shuffle(10000)\n",
    "print(len(FullDataset))"
   ]
  },
  {
   "cell_type": "code",
   "execution_count": 18,
   "metadata": {
    "execution": {
     "iopub.execute_input": "2020-10-03T14:46:40.008629Z",
     "iopub.status.busy": "2020-10-03T14:46:40.007937Z",
     "iopub.status.idle": "2020-10-03T14:46:40.015253Z",
     "shell.execute_reply": "2020-10-03T14:46:40.014536Z"
    },
    "papermill": {
     "duration": 0.0466,
     "end_time": "2020-10-03T14:46:40.015407",
     "exception": false,
     "start_time": "2020-10-03T14:46:39.968807",
     "status": "completed"
    },
    "tags": []
   },
   "outputs": [
    {
     "name": "stdout",
     "output_type": "stream",
     "text": [
      "6852\n"
     ]
    }
   ],
   "source": [
    "TrainDataset = FullDataset.skip(len(FullDataset)//10)\n",
    "print(len(TrainDataset))"
   ]
  },
  {
   "cell_type": "code",
   "execution_count": 19,
   "metadata": {
    "execution": {
     "iopub.execute_input": "2020-10-03T14:46:40.092335Z",
     "iopub.status.busy": "2020-10-03T14:46:40.091230Z",
     "iopub.status.idle": "2020-10-03T14:46:40.095700Z",
     "shell.execute_reply": "2020-10-03T14:46:40.096399Z"
    },
    "papermill": {
     "duration": 0.045119,
     "end_time": "2020-10-03T14:46:40.096542",
     "exception": false,
     "start_time": "2020-10-03T14:46:40.051423",
     "status": "completed"
    },
    "tags": []
   },
   "outputs": [
    {
     "name": "stdout",
     "output_type": "stream",
     "text": [
      "761\n"
     ]
    }
   ],
   "source": [
    "ValidDataset = FullDataset.take(len(FullDataset)//10)\n",
    "print(len(ValidDataset))"
   ]
  },
  {
   "cell_type": "code",
   "execution_count": 20,
   "metadata": {
    "execution": {
     "iopub.execute_input": "2020-10-03T14:46:40.215952Z",
     "iopub.status.busy": "2020-10-03T14:46:40.211324Z",
     "iopub.status.idle": "2020-10-03T14:46:41.472859Z",
     "shell.execute_reply": "2020-10-03T14:46:41.473392Z"
    },
    "papermill": {
     "duration": 1.332491,
     "end_time": "2020-10-03T14:46:41.473574",
     "exception": false,
     "start_time": "2020-10-03T14:46:40.141083",
     "status": "completed"
    },
    "tags": []
   },
   "outputs": [
    {
     "name": "stdout",
     "output_type": "stream",
     "text": [
      "3263\n"
     ]
    }
   ],
   "source": [
    "maxlen = 50\n",
    "\n",
    "test_x = []\n",
    "\n",
    "for i in df_test.index:\n",
    "    W = word_tokenize(df_test.loc[i, 'text'])\n",
    "    for w in range(len(W)):\n",
    "        try:\n",
    "            W[w] = vocab[W[w]]\n",
    "        except:\n",
    "            W[w] = vocab_size\n",
    "    if len(W) < maxlen:\n",
    "        W += [0 for i in range(maxlen-len(W))]\n",
    "    test_x.append(W[:maxlen])\n",
    "print(len(test_x))"
   ]
  },
  {
   "cell_type": "code",
   "execution_count": 21,
   "metadata": {
    "execution": {
     "iopub.execute_input": "2020-10-03T14:46:41.599193Z",
     "iopub.status.busy": "2020-10-03T14:46:41.588878Z",
     "iopub.status.idle": "2020-10-03T14:46:41.618371Z",
     "shell.execute_reply": "2020-10-03T14:46:41.619068Z"
    },
    "papermill": {
     "duration": 0.108835,
     "end_time": "2020-10-03T14:46:41.619244",
     "exception": false,
     "start_time": "2020-10-03T14:46:41.510409",
     "status": "completed"
    },
    "tags": []
   },
   "outputs": [
    {
     "name": "stdout",
     "output_type": "stream",
     "text": [
      "3263\n"
     ]
    }
   ],
   "source": [
    "TestDataset = tf.convert_to_tensor(test_x)\n",
    "print(len(TestDataset))"
   ]
  },
  {
   "cell_type": "markdown",
   "metadata": {
    "papermill": {
     "duration": 0.037791,
     "end_time": "2020-10-03T14:46:41.694850",
     "exception": false,
     "start_time": "2020-10-03T14:46:41.657059",
     "status": "completed"
    },
    "tags": []
   },
   "source": [
    "# Model"
   ]
  },
  {
   "cell_type": "markdown",
   "metadata": {
    "papermill": {
     "duration": 0.037066,
     "end_time": "2020-10-03T14:46:41.771123",
     "exception": false,
     "start_time": "2020-10-03T14:46:41.734057",
     "status": "completed"
    },
    "tags": []
   },
   "source": [
    "## Positional Encoding"
   ]
  },
  {
   "cell_type": "code",
   "execution_count": 22,
   "metadata": {
    "execution": {
     "iopub.execute_input": "2020-10-03T14:46:41.855122Z",
     "iopub.status.busy": "2020-10-03T14:46:41.854337Z",
     "iopub.status.idle": "2020-10-03T14:46:41.857495Z",
     "shell.execute_reply": "2020-10-03T14:46:41.857934Z"
    },
    "papermill": {
     "duration": 0.050084,
     "end_time": "2020-10-03T14:46:41.858050",
     "exception": false,
     "start_time": "2020-10-03T14:46:41.807966",
     "status": "completed"
    },
    "tags": []
   },
   "outputs": [],
   "source": [
    "class PositionalEncoding(layers.Layer):\n",
    "    def __init__(self, pos, dim):\n",
    "        super(PositionalEncoding, self).__init__()\n",
    "        pos = tf.range(pos, dtype=tf.float32)[:, tf.newaxis],\n",
    "        i = tf.range(dim, dtype=tf.float32)[tf.newaxis, :]\n",
    "        self.encoding = self.calc(pos, i, dim)\n",
    "        \n",
    "    def calc(self, pos, i, dim):\n",
    "        ret = pos / (tf.math.pow(10000, (i//2)/tf.cast(dim, dtype=float)))\n",
    "        return ret\n",
    "        \n",
    "    def call(self, inputs):\n",
    "        return inputs + self.encoding[:, :tf.shape(inputs)[1], :]"
   ]
  },
  {
   "cell_type": "markdown",
   "metadata": {
    "papermill": {
     "duration": 0.036808,
     "end_time": "2020-10-03T14:46:41.932371",
     "exception": false,
     "start_time": "2020-10-03T14:46:41.895563",
     "status": "completed"
    },
    "tags": []
   },
   "source": [
    "## Multi Head Self Attention"
   ]
  },
  {
   "cell_type": "code",
   "execution_count": 23,
   "metadata": {
    "execution": {
     "iopub.execute_input": "2020-10-03T14:46:42.029560Z",
     "iopub.status.busy": "2020-10-03T14:46:42.027615Z",
     "iopub.status.idle": "2020-10-03T14:46:42.030383Z",
     "shell.execute_reply": "2020-10-03T14:46:42.030858Z"
    },
    "papermill": {
     "duration": 0.060994,
     "end_time": "2020-10-03T14:46:42.030967",
     "exception": false,
     "start_time": "2020-10-03T14:46:41.969973",
     "status": "completed"
    },
    "tags": []
   },
   "outputs": [],
   "source": [
    "class MultiHeadSelfAttention(layers.Layer):\n",
    "    def __init__(self, embed_dim=512, num_heads=8):\n",
    "        super(MultiHeadSelfAttention, self).__init__()\n",
    "        \n",
    "        self.embed_dim = embed_dim\n",
    "        self.num_heads = num_heads\n",
    "        if embed_dim % num_heads != 0:\n",
    "            raise ValueError('embed_dim % num_heads != 0')\n",
    "        \n",
    "        self.key = layers.Dense(embed_dim)\n",
    "        self.value = layers.Dense(embed_dim)\n",
    "        self.query = layers.Dense(embed_dim)\n",
    "        self.concat_dense = layers.Dense(embed_dim)\n",
    "        \n",
    "    def attention(self, key, value, query):\n",
    "        matm = tf.matmul(query, key, transpose_b=True)\n",
    "        key_dim = tf.cast(tf.shape(key)[-1], tf.float32)\n",
    "        scaled = matm / tf.math.sqrt(key_dim)\n",
    "        attention_weights = tf.nn.softmax(scaled, axis=-1)\n",
    "        output = tf.matmul(attention_weights, value)\n",
    "        return output, attention_weights\n",
    "    \n",
    "    def seperate_heads(self, x, batch_size):\n",
    "        x = tf.reshape(x, [batch_size, -1, self.num_heads, self.embed_dim // self.num_heads])\n",
    "        return tf.transpose(x, perm=[0, 2, 1, 3])\n",
    "    \n",
    "    def call(self, inputs):\n",
    "        batch_size = tf.shape(inputs)[0]\n",
    "        key = self.key(inputs)\n",
    "        value = self.value(inputs)\n",
    "        query = self.query(inputs)\n",
    "        key = self.seperate_heads(key, batch_size)\n",
    "        value = self.seperate_heads(value, batch_size)\n",
    "        query = self.seperate_heads(query, batch_size)\n",
    "        attention, attention_weights = self.attention(key, value, query)\n",
    "        attention = tf.transpose(attention, perm=[0,2,1,3])\n",
    "        attention = tf.reshape(attention, (batch_size, -1, self.embed_dim))\n",
    "        output = self.concat_dense(attention)\n",
    "        return output"
   ]
  },
  {
   "cell_type": "markdown",
   "metadata": {
    "papermill": {
     "duration": 0.036673,
     "end_time": "2020-10-03T14:46:42.105230",
     "exception": false,
     "start_time": "2020-10-03T14:46:42.068557",
     "status": "completed"
    },
    "tags": []
   },
   "source": [
    "## Transformer Block"
   ]
  },
  {
   "cell_type": "code",
   "execution_count": 24,
   "metadata": {
    "execution": {
     "iopub.execute_input": "2020-10-03T14:46:42.192316Z",
     "iopub.status.busy": "2020-10-03T14:46:42.191421Z",
     "iopub.status.idle": "2020-10-03T14:46:42.194262Z",
     "shell.execute_reply": "2020-10-03T14:46:42.193779Z"
    },
    "papermill": {
     "duration": 0.050824,
     "end_time": "2020-10-03T14:46:42.194375",
     "exception": false,
     "start_time": "2020-10-03T14:46:42.143551",
     "status": "completed"
    },
    "tags": []
   },
   "outputs": [],
   "source": [
    "class TransformerLayer(layers.Layer):\n",
    "    def __init__(self, dim=512, dff=2048, num_head=8, dropout_rate=0.1):\n",
    "        super(TransformerLayer, self).__init__()\n",
    "        \n",
    "        self.MultiHeadSelfAttention = MultiHeadSelfAttention(dim, num_head)\n",
    "        self.LayerNormalization1 = layers.LayerNormalization()\n",
    "        self.LayerNormalization2 = layers.LayerNormalization()\n",
    "        self.ffn1 = layers.Dense(dff, activation='relu')\n",
    "        self.ffn2 = layers.Dense(dim)\n",
    "        self.dropout1 = layers.Dropout(dropout_rate)\n",
    "        self.dropout2 = layers.Dropout(dropout_rate)\n",
    "        \n",
    "    def call(self, inputs):\n",
    "        x = self.MultiHeadSelfAttention(inputs)\n",
    "        x = self.LayerNormalization1(x+inputs)\n",
    "        x = self.dropout1(x)\n",
    "        \n",
    "        output = self.ffn1(x)\n",
    "        output = self.ffn2(output)\n",
    "        output = self.dropout2(output)\n",
    "        \n",
    "        output = self.LayerNormalization2(x+output)\n",
    "        \n",
    "        return output"
   ]
  },
  {
   "cell_type": "markdown",
   "metadata": {
    "papermill": {
     "duration": 0.03728,
     "end_time": "2020-10-03T14:46:42.269239",
     "exception": false,
     "start_time": "2020-10-03T14:46:42.231959",
     "status": "completed"
    },
    "tags": []
   },
   "source": [
    "## Transformer"
   ]
  },
  {
   "cell_type": "code",
   "execution_count": 25,
   "metadata": {
    "execution": {
     "iopub.execute_input": "2020-10-03T14:46:42.356040Z",
     "iopub.status.busy": "2020-10-03T14:46:42.355396Z",
     "iopub.status.idle": "2020-10-03T14:46:43.115987Z",
     "shell.execute_reply": "2020-10-03T14:46:43.115246Z"
    },
    "papermill": {
     "duration": 0.80725,
     "end_time": "2020-10-03T14:46:43.116112",
     "exception": false,
     "start_time": "2020-10-03T14:46:42.308862",
     "status": "completed"
    },
    "tags": []
   },
   "outputs": [],
   "source": [
    "dim = 512\n",
    "dff = 2048\n",
    "num_heads = 8\n",
    "num_layers = 1\n",
    "dropout_rate = 0.1\n",
    "maxlen = 50\n",
    "vocab_size = 10000\n",
    "\n",
    "inputs = keras.Input((maxlen,))\n",
    "x = layers.Embedding(vocab_size, dim)(inputs)\n",
    "x = PositionalEncoding(vocab_size, dim)(x)\n",
    "\n",
    "for _ in range(num_layers):\n",
    "    x = TransformerLayer(dim, dff, num_heads, dropout_rate)(x)\n",
    "\n",
    "output = layers.GlobalAveragePooling1D()(x)\n",
    "output = layers.Dropout(dropout_rate)(output)\n",
    "output = layers.Dense(16)(output)\n",
    "output = layers.Dropout(dropout_rate)(output)\n",
    "output = layers.Dense(1, activation='sigmoid')(output)\n",
    "\n",
    "model = keras.Model(inputs, output)"
   ]
  },
  {
   "cell_type": "code",
   "execution_count": 26,
   "metadata": {
    "execution": {
     "iopub.execute_input": "2020-10-03T14:46:43.206598Z",
     "iopub.status.busy": "2020-10-03T14:46:43.205578Z",
     "iopub.status.idle": "2020-10-03T14:46:43.209522Z",
     "shell.execute_reply": "2020-10-03T14:46:43.208960Z"
    },
    "papermill": {
     "duration": 0.051439,
     "end_time": "2020-10-03T14:46:43.209632",
     "exception": false,
     "start_time": "2020-10-03T14:46:43.158193",
     "status": "completed"
    },
    "tags": []
   },
   "outputs": [],
   "source": [
    "def f1_score(y_true, y_pred):\n",
    "    true_positives = K.sum(K.round(K.clip(y_true * y_pred, 0, 1)))\n",
    "    possible_positives = K.sum(K.round(K.clip(y_true, 0, 1)))\n",
    "    predicted_positives = K.sum(K.round(K.clip(y_pred, 0, 1)))\n",
    "    precision = true_positives / (predicted_positives + K.epsilon())\n",
    "    recall = true_positives / (possible_positives + K.epsilon())\n",
    "    f1_val = 2*(precision*recall)/(precision+recall+K.epsilon())\n",
    "    return f1_val"
   ]
  },
  {
   "cell_type": "code",
   "execution_count": 27,
   "metadata": {
    "execution": {
     "iopub.execute_input": "2020-10-03T14:46:43.301861Z",
     "iopub.status.busy": "2020-10-03T14:46:43.300805Z",
     "iopub.status.idle": "2020-10-03T14:46:43.308076Z",
     "shell.execute_reply": "2020-10-03T14:46:43.307543Z"
    },
    "papermill": {
     "duration": 0.059631,
     "end_time": "2020-10-03T14:46:43.308172",
     "exception": false,
     "start_time": "2020-10-03T14:46:43.248541",
     "status": "completed"
    },
    "tags": []
   },
   "outputs": [],
   "source": [
    "model.compile(optimizer='adam',\n",
    "              loss='BinaryCrossentropy',\n",
    "              metrics=[f1_score])"
   ]
  },
  {
   "cell_type": "markdown",
   "metadata": {
    "papermill": {
     "duration": 0.038059,
     "end_time": "2020-10-03T14:46:43.385159",
     "exception": false,
     "start_time": "2020-10-03T14:46:43.347100",
     "status": "completed"
    },
    "tags": []
   },
   "source": [
    "# Train"
   ]
  },
  {
   "cell_type": "code",
   "execution_count": 28,
   "metadata": {
    "execution": {
     "iopub.execute_input": "2020-10-03T14:46:43.467674Z",
     "iopub.status.busy": "2020-10-03T14:46:43.466908Z",
     "iopub.status.idle": "2020-10-03T14:46:43.472441Z",
     "shell.execute_reply": "2020-10-03T14:46:43.471907Z"
    },
    "papermill": {
     "duration": 0.048595,
     "end_time": "2020-10-03T14:46:43.472546",
     "exception": false,
     "start_time": "2020-10-03T14:46:43.423951",
     "status": "completed"
    },
    "tags": []
   },
   "outputs": [],
   "source": [
    "batch_size = 512\n",
    "TrainDataset = TrainDataset.batch(batch_size)\n",
    "ValidDataset = ValidDataset.batch(batch_size)"
   ]
  },
  {
   "cell_type": "code",
   "execution_count": 29,
   "metadata": {
    "execution": {
     "iopub.execute_input": "2020-10-03T14:46:43.562056Z",
     "iopub.status.busy": "2020-10-03T14:46:43.561263Z",
     "iopub.status.idle": "2020-10-03T14:47:36.210399Z",
     "shell.execute_reply": "2020-10-03T14:47:36.209882Z"
    },
    "papermill": {
     "duration": 52.698589,
     "end_time": "2020-10-03T14:47:36.210514",
     "exception": false,
     "start_time": "2020-10-03T14:46:43.511925",
     "status": "completed"
    },
    "tags": []
   },
   "outputs": [
    {
     "name": "stdout",
     "output_type": "stream",
     "text": [
      "epoch 0\n",
      "train\n",
      "loss : 0.7785359621047974, f1 score : 0.33854159712791443\n",
      "loss : 1.4610300064086914, f1 score : 0.02247190847992897\n",
      "valid\n",
      "loss : 1.2128864526748657, f1 score : 0.0\n",
      "epoch 1\n",
      "train\n",
      "loss : 1.2051515579223633, f1 score : 0.03463202714920044\n",
      "loss : 0.7592166066169739, f1 score : 0.08791207522153854\n",
      "valid\n",
      "loss : 0.6527432799339294, f1 score : 0.0\n",
      "epoch 2\n",
      "train\n",
      "loss : 0.7367075681686401, f1 score : 0.27627620100975037\n",
      "loss : 0.7270467281341553, f1 score : 0.5520361661911011\n",
      "valid\n",
      "loss : 0.7395619750022888, f1 score : 0.5932202935218811\n",
      "epoch 3\n",
      "train\n",
      "loss : 0.747222900390625, f1 score : 0.5903614163398743\n",
      "loss : 0.7292758226394653, f1 score : 0.4480873942375183\n",
      "valid\n",
      "loss : 0.6714686155319214, f1 score : 0.0\n",
      "epoch 4\n",
      "train\n",
      "loss : 0.6983681917190552, f1 score : 0.4050632417201996\n",
      "loss : 0.7168970108032227, f1 score : 0.07207205146551132\n",
      "valid\n",
      "loss : 0.6692432165145874, f1 score : 0.0\n",
      "epoch 5\n",
      "train\n",
      "loss : 0.6696380972862244, f1 score : 0.20512817800045013\n",
      "loss : 0.6655207276344299, f1 score : 0.41538456082344055\n",
      "valid\n",
      "loss : 0.5947286486625671, f1 score : 0.6885244846343994\n",
      "epoch 6\n",
      "train\n",
      "loss : 0.6237806677818298, f1 score : 0.5888888835906982\n",
      "loss : 0.5925156474113464, f1 score : 0.6106870174407959\n",
      "valid\n",
      "loss : 0.5766088366508484, f1 score : 0.712871253490448\n",
      "epoch 7\n",
      "train\n",
      "loss : 0.5954961776733398, f1 score : 0.6327682733535767\n",
      "loss : 0.6043012738227844, f1 score : 0.6184210181236267\n",
      "valid\n",
      "loss : 0.5905492305755615, f1 score : 0.6594593524932861\n",
      "epoch 8\n",
      "train\n",
      "loss : 0.5923108458518982, f1 score : 0.6633663177490234\n",
      "loss : 0.5795422792434692, f1 score : 0.6511627435684204\n",
      "valid\n",
      "loss : 0.5748791694641113, f1 score : 0.6428570747375488\n",
      "epoch 9\n",
      "train\n",
      "loss : 0.609581708908081, f1 score : 0.6249999403953552\n",
      "loss : 0.5776148438453674, f1 score : 0.646616518497467\n",
      "valid\n",
      "loss : 0.5743736624717712, f1 score : 0.6847825646400452\n",
      "epoch 10\n",
      "train\n",
      "loss : 0.5788874626159668, f1 score : 0.6447760462760925\n",
      "loss : 0.583061933517456, f1 score : 0.6787877678871155\n",
      "valid\n",
      "loss : 0.5744128823280334, f1 score : 0.700564980506897\n",
      "epoch 11\n",
      "train\n",
      "loss : 0.60265052318573, f1 score : 0.6267279982566833\n",
      "loss : 0.5334162712097168, f1 score : 0.7837837934494019\n",
      "valid\n",
      "loss : 0.5652657151222229, f1 score : 0.6585366129875183\n",
      "epoch 12\n",
      "train\n",
      "loss : 0.5733254551887512, f1 score : 0.6732673048973083\n",
      "loss : 0.5904847383499146, f1 score : 0.6709676384925842\n",
      "valid\n",
      "loss : 0.5639891028404236, f1 score : 0.6547619104385376\n",
      "epoch 13\n",
      "train\n",
      "loss : 0.5860933661460876, f1 score : 0.6304348111152649\n",
      "loss : 0.5517881512641907, f1 score : 0.7074829339981079\n",
      "valid\n",
      "loss : 0.5511531829833984, f1 score : 0.6666666269302368\n",
      "epoch 14\n",
      "train\n",
      "loss : 0.5869315266609192, f1 score : 0.6094182729721069\n",
      "loss : 0.545384407043457, f1 score : 0.7455620765686035\n",
      "valid\n",
      "loss : 0.5449580550193787, f1 score : 0.7400000095367432\n",
      "epoch 15\n",
      "train\n",
      "loss : 0.5647056102752686, f1 score : 0.683417022228241\n",
      "loss : 0.5436320900917053, f1 score : 0.7450979948043823\n",
      "valid\n",
      "loss : 0.5523948073387146, f1 score : 0.705263078212738\n",
      "epoch 16\n",
      "train\n",
      "loss : 0.5458861589431763, f1 score : 0.6986666321754456\n",
      "loss : 0.5803294777870178, f1 score : 0.625850260257721\n",
      "valid\n",
      "loss : 0.6085205674171448, f1 score : 0.6195651888847351\n",
      "epoch 17\n",
      "train\n",
      "loss : 0.6227608323097229, f1 score : 0.6272726655006409\n",
      "loss : 0.5405992269515991, f1 score : 0.7417217493057251\n",
      "valid\n",
      "loss : 0.550728976726532, f1 score : 0.6628570556640625\n",
      "epoch 18\n",
      "train\n",
      "loss : 0.5511936545372009, f1 score : 0.6949601173400879\n",
      "loss : 0.5500837564468384, f1 score : 0.7006369233131409\n",
      "valid\n",
      "loss : 0.5561696290969849, f1 score : 0.6631015539169312\n",
      "epoch 19\n",
      "train\n",
      "loss : 0.5616093873977661, f1 score : 0.6485013365745544\n",
      "loss : 0.49810144305229187, f1 score : 0.6764705181121826\n",
      "valid\n",
      "loss : 0.5138793587684631, f1 score : 0.6910994052886963\n"
     ]
    }
   ],
   "source": [
    "num_epochs = 20\n",
    "best_f1 = 0\n",
    "\n",
    "for epoch in range(num_epochs):\n",
    "    model.reset_metrics()\n",
    "    \n",
    "    print('epoch {}'.format(epoch))\n",
    "    print('train')\n",
    "    TrainDataset.shuffle(10000)\n",
    "    for idx, batch in enumerate(TrainDataset):\n",
    "        result = model.train_on_batch(batch['x'], batch['y'])\n",
    "        if idx % (len(TrainDataset) - 1) == 0:\n",
    "            print('loss : {}, f1 score : {}'.format(result[0], result[1]))\n",
    "        \n",
    "    print('valid')\n",
    "    for batch in ValidDataset:\n",
    "        loss, f1_score = model.test_on_batch(batch['x'], batch['y'])\n",
    "    print('loss : {}, f1 score : {}'.format(loss, f1_score))\n",
    "    if f1_score > best_f1:\n",
    "        best_f1 = f1_score\n",
    "        model.save_weights('best.h5')"
   ]
  },
  {
   "cell_type": "markdown",
   "metadata": {
    "papermill": {
     "duration": 0.051813,
     "end_time": "2020-10-03T14:47:36.316599",
     "exception": false,
     "start_time": "2020-10-03T14:47:36.264786",
     "status": "completed"
    },
    "tags": []
   },
   "source": [
    "# Predict"
   ]
  },
  {
   "cell_type": "code",
   "execution_count": 30,
   "metadata": {
    "execution": {
     "iopub.execute_input": "2020-10-03T14:47:36.448170Z",
     "iopub.status.busy": "2020-10-03T14:47:36.446458Z",
     "iopub.status.idle": "2020-10-03T14:47:36.464380Z",
     "shell.execute_reply": "2020-10-03T14:47:36.463409Z"
    },
    "papermill": {
     "duration": 0.095567,
     "end_time": "2020-10-03T14:47:36.464526",
     "exception": false,
     "start_time": "2020-10-03T14:47:36.368959",
     "status": "completed"
    },
    "tags": []
   },
   "outputs": [],
   "source": [
    "model.load_weights('best.h5')"
   ]
  },
  {
   "cell_type": "code",
   "execution_count": 31,
   "metadata": {
    "execution": {
     "iopub.execute_input": "2020-10-03T14:47:36.575048Z",
     "iopub.status.busy": "2020-10-03T14:47:36.574393Z",
     "iopub.status.idle": "2020-10-03T14:47:37.417651Z",
     "shell.execute_reply": "2020-10-03T14:47:37.416346Z"
    },
    "papermill": {
     "duration": 0.900241,
     "end_time": "2020-10-03T14:47:37.417792",
     "exception": false,
     "start_time": "2020-10-03T14:47:36.517551",
     "status": "completed"
    },
    "tags": []
   },
   "outputs": [],
   "source": [
    "target = np.round(model.predict(TestDataset)).astype(int)"
   ]
  },
  {
   "cell_type": "code",
   "execution_count": 32,
   "metadata": {
    "execution": {
     "iopub.execute_input": "2020-10-03T14:47:37.543977Z",
     "iopub.status.busy": "2020-10-03T14:47:37.543217Z",
     "iopub.status.idle": "2020-10-03T14:47:37.546923Z",
     "shell.execute_reply": "2020-10-03T14:47:37.547396Z"
    },
    "papermill": {
     "duration": 0.070537,
     "end_time": "2020-10-03T14:47:37.547515",
     "exception": false,
     "start_time": "2020-10-03T14:47:37.476978",
     "status": "completed"
    },
    "tags": []
   },
   "outputs": [
    {
     "data": {
      "text/html": [
       "<div>\n",
       "<style scoped>\n",
       "    .dataframe tbody tr th:only-of-type {\n",
       "        vertical-align: middle;\n",
       "    }\n",
       "\n",
       "    .dataframe tbody tr th {\n",
       "        vertical-align: top;\n",
       "    }\n",
       "\n",
       "    .dataframe thead th {\n",
       "        text-align: right;\n",
       "    }\n",
       "</style>\n",
       "<table border=\"1\" class=\"dataframe\">\n",
       "  <thead>\n",
       "    <tr style=\"text-align: right;\">\n",
       "      <th></th>\n",
       "      <th>id</th>\n",
       "    </tr>\n",
       "  </thead>\n",
       "  <tbody>\n",
       "    <tr>\n",
       "      <th>0</th>\n",
       "      <td>0</td>\n",
       "    </tr>\n",
       "    <tr>\n",
       "      <th>1</th>\n",
       "      <td>2</td>\n",
       "    </tr>\n",
       "    <tr>\n",
       "      <th>2</th>\n",
       "      <td>3</td>\n",
       "    </tr>\n",
       "    <tr>\n",
       "      <th>3</th>\n",
       "      <td>9</td>\n",
       "    </tr>\n",
       "    <tr>\n",
       "      <th>4</th>\n",
       "      <td>11</td>\n",
       "    </tr>\n",
       "  </tbody>\n",
       "</table>\n",
       "</div>"
      ],
      "text/plain": [
       "   id\n",
       "0   0\n",
       "1   2\n",
       "2   3\n",
       "3   9\n",
       "4  11"
      ]
     },
     "execution_count": 32,
     "metadata": {},
     "output_type": "execute_result"
    }
   ],
   "source": [
    "submission = pd.DataFrame()\n",
    "submission['id'] = df_test['id']\n",
    "submission.head()"
   ]
  },
  {
   "cell_type": "code",
   "execution_count": 33,
   "metadata": {
    "execution": {
     "iopub.execute_input": "2020-10-03T14:47:37.661346Z",
     "iopub.status.busy": "2020-10-03T14:47:37.660548Z",
     "iopub.status.idle": "2020-10-03T14:47:37.664450Z",
     "shell.execute_reply": "2020-10-03T14:47:37.664967Z"
    },
    "papermill": {
     "duration": 0.065129,
     "end_time": "2020-10-03T14:47:37.665112",
     "exception": false,
     "start_time": "2020-10-03T14:47:37.599983",
     "status": "completed"
    },
    "tags": []
   },
   "outputs": [
    {
     "data": {
      "text/html": [
       "<div>\n",
       "<style scoped>\n",
       "    .dataframe tbody tr th:only-of-type {\n",
       "        vertical-align: middle;\n",
       "    }\n",
       "\n",
       "    .dataframe tbody tr th {\n",
       "        vertical-align: top;\n",
       "    }\n",
       "\n",
       "    .dataframe thead th {\n",
       "        text-align: right;\n",
       "    }\n",
       "</style>\n",
       "<table border=\"1\" class=\"dataframe\">\n",
       "  <thead>\n",
       "    <tr style=\"text-align: right;\">\n",
       "      <th></th>\n",
       "      <th>id</th>\n",
       "    </tr>\n",
       "  </thead>\n",
       "  <tbody>\n",
       "    <tr>\n",
       "      <th>3258</th>\n",
       "      <td>10861</td>\n",
       "    </tr>\n",
       "    <tr>\n",
       "      <th>3259</th>\n",
       "      <td>10865</td>\n",
       "    </tr>\n",
       "    <tr>\n",
       "      <th>3260</th>\n",
       "      <td>10868</td>\n",
       "    </tr>\n",
       "    <tr>\n",
       "      <th>3261</th>\n",
       "      <td>10874</td>\n",
       "    </tr>\n",
       "    <tr>\n",
       "      <th>3262</th>\n",
       "      <td>10875</td>\n",
       "    </tr>\n",
       "  </tbody>\n",
       "</table>\n",
       "</div>"
      ],
      "text/plain": [
       "         id\n",
       "3258  10861\n",
       "3259  10865\n",
       "3260  10868\n",
       "3261  10874\n",
       "3262  10875"
      ]
     },
     "execution_count": 33,
     "metadata": {},
     "output_type": "execute_result"
    }
   ],
   "source": [
    "submission.tail()"
   ]
  },
  {
   "cell_type": "code",
   "execution_count": 34,
   "metadata": {
    "execution": {
     "iopub.execute_input": "2020-10-03T14:47:37.784987Z",
     "iopub.status.busy": "2020-10-03T14:47:37.781276Z",
     "iopub.status.idle": "2020-10-03T14:47:37.788714Z",
     "shell.execute_reply": "2020-10-03T14:47:37.788128Z"
    },
    "papermill": {
     "duration": 0.066598,
     "end_time": "2020-10-03T14:47:37.788816",
     "exception": false,
     "start_time": "2020-10-03T14:47:37.722218",
     "status": "completed"
    },
    "tags": []
   },
   "outputs": [
    {
     "data": {
      "text/html": [
       "<div>\n",
       "<style scoped>\n",
       "    .dataframe tbody tr th:only-of-type {\n",
       "        vertical-align: middle;\n",
       "    }\n",
       "\n",
       "    .dataframe tbody tr th {\n",
       "        vertical-align: top;\n",
       "    }\n",
       "\n",
       "    .dataframe thead th {\n",
       "        text-align: right;\n",
       "    }\n",
       "</style>\n",
       "<table border=\"1\" class=\"dataframe\">\n",
       "  <thead>\n",
       "    <tr style=\"text-align: right;\">\n",
       "      <th></th>\n",
       "      <th>id</th>\n",
       "      <th>target</th>\n",
       "    </tr>\n",
       "  </thead>\n",
       "  <tbody>\n",
       "    <tr>\n",
       "      <th>0</th>\n",
       "      <td>0</td>\n",
       "      <td>0</td>\n",
       "    </tr>\n",
       "    <tr>\n",
       "      <th>1</th>\n",
       "      <td>2</td>\n",
       "      <td>0</td>\n",
       "    </tr>\n",
       "    <tr>\n",
       "      <th>2</th>\n",
       "      <td>3</td>\n",
       "      <td>0</td>\n",
       "    </tr>\n",
       "    <tr>\n",
       "      <th>3</th>\n",
       "      <td>9</td>\n",
       "      <td>0</td>\n",
       "    </tr>\n",
       "    <tr>\n",
       "      <th>4</th>\n",
       "      <td>11</td>\n",
       "      <td>1</td>\n",
       "    </tr>\n",
       "  </tbody>\n",
       "</table>\n",
       "</div>"
      ],
      "text/plain": [
       "   id  target\n",
       "0   0       0\n",
       "1   2       0\n",
       "2   3       0\n",
       "3   9       0\n",
       "4  11       1"
      ]
     },
     "execution_count": 34,
     "metadata": {},
     "output_type": "execute_result"
    }
   ],
   "source": [
    "submission['target'] = target\n",
    "submission.head()"
   ]
  },
  {
   "cell_type": "code",
   "execution_count": 35,
   "metadata": {
    "execution": {
     "iopub.execute_input": "2020-10-03T14:47:37.899943Z",
     "iopub.status.busy": "2020-10-03T14:47:37.899249Z",
     "iopub.status.idle": "2020-10-03T14:47:38.103190Z",
     "shell.execute_reply": "2020-10-03T14:47:38.102624Z"
    },
    "papermill": {
     "duration": 0.261233,
     "end_time": "2020-10-03T14:47:38.103360",
     "exception": false,
     "start_time": "2020-10-03T14:47:37.842127",
     "status": "completed"
    },
    "tags": []
   },
   "outputs": [],
   "source": [
    "submission.to_csv('submission.csv', index=False)"
   ]
  }
 ],
 "metadata": {
  "kernelspec": {
   "display_name": "Python 3",
   "language": "python",
   "name": "python3"
  },
  "language_info": {
   "codemirror_mode": {
    "name": "ipython",
    "version": 3
   },
   "file_extension": ".py",
   "mimetype": "text/x-python",
   "name": "python",
   "nbconvert_exporter": "python",
   "pygments_lexer": "ipython3",
   "version": "3.7.6"
  },
  "papermill": {
   "duration": 92.902282,
   "end_time": "2020-10-03T14:47:39.742680",
   "environment_variables": {},
   "exception": null,
   "input_path": "__notebook__.ipynb",
   "output_path": "__notebook__.ipynb",
   "parameters": {},
   "start_time": "2020-10-03T14:46:06.840398",
   "version": "2.1.0"
  }
 },
 "nbformat": 4,
 "nbformat_minor": 4
}
