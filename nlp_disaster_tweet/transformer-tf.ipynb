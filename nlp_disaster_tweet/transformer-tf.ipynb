{
 "cells": [
  {
   "cell_type": "code",
   "execution_count": 1,
   "metadata": {
    "_cell_guid": "b1076dfc-b9ad-4769-8c92-a6c4dae69d19",
    "_uuid": "8f2839f25d086af736a60e9eeb907d3b93b6e0e5",
    "execution": {
     "iopub.execute_input": "2020-10-03T13:03:17.034201Z",
     "iopub.status.busy": "2020-10-03T13:03:17.033391Z",
     "iopub.status.idle": "2020-10-03T13:03:23.079505Z",
     "shell.execute_reply": "2020-10-03T13:03:23.078850Z"
    },
    "papermill": {
     "duration": 6.082187,
     "end_time": "2020-10-03T13:03:23.079664",
     "exception": false,
     "start_time": "2020-10-03T13:03:16.997477",
     "status": "completed"
    },
    "tags": []
   },
   "outputs": [
    {
     "name": "stdout",
     "output_type": "stream",
     "text": [
      "/kaggle/input/nlp-getting-started/test.csv\n",
      "/kaggle/input/nlp-getting-started/sample_submission.csv\n",
      "/kaggle/input/nlp-getting-started/train.csv\n"
     ]
    }
   ],
   "source": [
    "import numpy as np # linear algebra\n",
    "import pandas as pd # data processing, CSV file I/O (e.g. pd.read_csv)\n",
    "import re\n",
    "import random\n",
    "\n",
    "import tensorflow as tf\n",
    "from tensorflow import keras\n",
    "from tensorflow.keras import backend as K\n",
    "from tensorflow.keras import layers\n",
    "\n",
    "import os\n",
    "for dirname, _, filenames in os.walk('/kaggle/input'):\n",
    "    for filename in filenames:\n",
    "        print(os.path.join(dirname, filename))\n",
    "\n",
    "# You can write up to 5GB to the current directory (/kaggle/working/) that gets preserved as output when you create a version using \"Save & Run All\" \n",
    "# You can also write temporary files to /kaggle/temp/, but they won't be saved outside of the current session"
   ]
  },
  {
   "cell_type": "code",
   "execution_count": 2,
   "metadata": {
    "execution": {
     "iopub.execute_input": "2020-10-03T13:03:23.146081Z",
     "iopub.status.busy": "2020-10-03T13:03:23.145141Z",
     "iopub.status.idle": "2020-10-03T13:03:23.149439Z",
     "shell.execute_reply": "2020-10-03T13:03:23.148846Z"
    },
    "papermill": {
     "duration": 0.040304,
     "end_time": "2020-10-03T13:03:23.149548",
     "exception": false,
     "start_time": "2020-10-03T13:03:23.109244",
     "status": "completed"
    },
    "tags": []
   },
   "outputs": [],
   "source": [
    "os.environ['PYTHONHASHSEED'] = '123'\n",
    "np.random.seed(123)\n",
    "random.seed(123)\n",
    "tf.random.set_seed(123)"
   ]
  },
  {
   "cell_type": "markdown",
   "metadata": {
    "papermill": {
     "duration": 0.031905,
     "end_time": "2020-10-03T13:03:23.214319",
     "exception": false,
     "start_time": "2020-10-03T13:03:23.182414",
     "status": "completed"
    },
    "tags": []
   },
   "source": [
    "# Data"
   ]
  },
  {
   "cell_type": "code",
   "execution_count": 3,
   "metadata": {
    "execution": {
     "iopub.execute_input": "2020-10-03T13:03:23.287713Z",
     "iopub.status.busy": "2020-10-03T13:03:23.286796Z",
     "iopub.status.idle": "2020-10-03T13:03:23.347689Z",
     "shell.execute_reply": "2020-10-03T13:03:23.348282Z"
    },
    "papermill": {
     "duration": 0.103082,
     "end_time": "2020-10-03T13:03:23.348415",
     "exception": false,
     "start_time": "2020-10-03T13:03:23.245333",
     "status": "completed"
    },
    "tags": []
   },
   "outputs": [
    {
     "data": {
      "text/html": [
       "<div>\n",
       "<style scoped>\n",
       "    .dataframe tbody tr th:only-of-type {\n",
       "        vertical-align: middle;\n",
       "    }\n",
       "\n",
       "    .dataframe tbody tr th {\n",
       "        vertical-align: top;\n",
       "    }\n",
       "\n",
       "    .dataframe thead th {\n",
       "        text-align: right;\n",
       "    }\n",
       "</style>\n",
       "<table border=\"1\" class=\"dataframe\">\n",
       "  <thead>\n",
       "    <tr style=\"text-align: right;\">\n",
       "      <th></th>\n",
       "      <th>id</th>\n",
       "      <th>keyword</th>\n",
       "      <th>location</th>\n",
       "      <th>text</th>\n",
       "      <th>target</th>\n",
       "    </tr>\n",
       "  </thead>\n",
       "  <tbody>\n",
       "    <tr>\n",
       "      <th>0</th>\n",
       "      <td>1</td>\n",
       "      <td>NaN</td>\n",
       "      <td>NaN</td>\n",
       "      <td>Our Deeds are the Reason of this #earthquake M...</td>\n",
       "      <td>1</td>\n",
       "    </tr>\n",
       "    <tr>\n",
       "      <th>1</th>\n",
       "      <td>4</td>\n",
       "      <td>NaN</td>\n",
       "      <td>NaN</td>\n",
       "      <td>Forest fire near La Ronge Sask. Canada</td>\n",
       "      <td>1</td>\n",
       "    </tr>\n",
       "    <tr>\n",
       "      <th>2</th>\n",
       "      <td>5</td>\n",
       "      <td>NaN</td>\n",
       "      <td>NaN</td>\n",
       "      <td>All residents asked to 'shelter in place' are ...</td>\n",
       "      <td>1</td>\n",
       "    </tr>\n",
       "    <tr>\n",
       "      <th>3</th>\n",
       "      <td>6</td>\n",
       "      <td>NaN</td>\n",
       "      <td>NaN</td>\n",
       "      <td>13,000 people receive #wildfires evacuation or...</td>\n",
       "      <td>1</td>\n",
       "    </tr>\n",
       "    <tr>\n",
       "      <th>4</th>\n",
       "      <td>7</td>\n",
       "      <td>NaN</td>\n",
       "      <td>NaN</td>\n",
       "      <td>Just got sent this photo from Ruby #Alaska as ...</td>\n",
       "      <td>1</td>\n",
       "    </tr>\n",
       "  </tbody>\n",
       "</table>\n",
       "</div>"
      ],
      "text/plain": [
       "   id keyword location                                               text  \\\n",
       "0   1     NaN      NaN  Our Deeds are the Reason of this #earthquake M...   \n",
       "1   4     NaN      NaN             Forest fire near La Ronge Sask. Canada   \n",
       "2   5     NaN      NaN  All residents asked to 'shelter in place' are ...   \n",
       "3   6     NaN      NaN  13,000 people receive #wildfires evacuation or...   \n",
       "4   7     NaN      NaN  Just got sent this photo from Ruby #Alaska as ...   \n",
       "\n",
       "   target  \n",
       "0       1  \n",
       "1       1  \n",
       "2       1  \n",
       "3       1  \n",
       "4       1  "
      ]
     },
     "execution_count": 3,
     "metadata": {},
     "output_type": "execute_result"
    }
   ],
   "source": [
    "df_train = pd.read_csv('../input/nlp-getting-started/train.csv')\n",
    "df_train.head()"
   ]
  },
  {
   "cell_type": "code",
   "execution_count": 4,
   "metadata": {
    "execution": {
     "iopub.execute_input": "2020-10-03T13:03:23.411327Z",
     "iopub.status.busy": "2020-10-03T13:03:23.410692Z",
     "iopub.status.idle": "2020-10-03T13:03:23.437499Z",
     "shell.execute_reply": "2020-10-03T13:03:23.436717Z"
    },
    "papermill": {
     "duration": 0.059597,
     "end_time": "2020-10-03T13:03:23.437612",
     "exception": false,
     "start_time": "2020-10-03T13:03:23.378015",
     "status": "completed"
    },
    "tags": []
   },
   "outputs": [
    {
     "data": {
      "text/html": [
       "<div>\n",
       "<style scoped>\n",
       "    .dataframe tbody tr th:only-of-type {\n",
       "        vertical-align: middle;\n",
       "    }\n",
       "\n",
       "    .dataframe tbody tr th {\n",
       "        vertical-align: top;\n",
       "    }\n",
       "\n",
       "    .dataframe thead th {\n",
       "        text-align: right;\n",
       "    }\n",
       "</style>\n",
       "<table border=\"1\" class=\"dataframe\">\n",
       "  <thead>\n",
       "    <tr style=\"text-align: right;\">\n",
       "      <th></th>\n",
       "      <th>id</th>\n",
       "      <th>keyword</th>\n",
       "      <th>location</th>\n",
       "      <th>text</th>\n",
       "    </tr>\n",
       "  </thead>\n",
       "  <tbody>\n",
       "    <tr>\n",
       "      <th>0</th>\n",
       "      <td>0</td>\n",
       "      <td>NaN</td>\n",
       "      <td>NaN</td>\n",
       "      <td>Just happened a terrible car crash</td>\n",
       "    </tr>\n",
       "    <tr>\n",
       "      <th>1</th>\n",
       "      <td>2</td>\n",
       "      <td>NaN</td>\n",
       "      <td>NaN</td>\n",
       "      <td>Heard about #earthquake is different cities, s...</td>\n",
       "    </tr>\n",
       "    <tr>\n",
       "      <th>2</th>\n",
       "      <td>3</td>\n",
       "      <td>NaN</td>\n",
       "      <td>NaN</td>\n",
       "      <td>there is a forest fire at spot pond, geese are...</td>\n",
       "    </tr>\n",
       "    <tr>\n",
       "      <th>3</th>\n",
       "      <td>9</td>\n",
       "      <td>NaN</td>\n",
       "      <td>NaN</td>\n",
       "      <td>Apocalypse lighting. #Spokane #wildfires</td>\n",
       "    </tr>\n",
       "    <tr>\n",
       "      <th>4</th>\n",
       "      <td>11</td>\n",
       "      <td>NaN</td>\n",
       "      <td>NaN</td>\n",
       "      <td>Typhoon Soudelor kills 28 in China and Taiwan</td>\n",
       "    </tr>\n",
       "  </tbody>\n",
       "</table>\n",
       "</div>"
      ],
      "text/plain": [
       "   id keyword location                                               text\n",
       "0   0     NaN      NaN                 Just happened a terrible car crash\n",
       "1   2     NaN      NaN  Heard about #earthquake is different cities, s...\n",
       "2   3     NaN      NaN  there is a forest fire at spot pond, geese are...\n",
       "3   9     NaN      NaN           Apocalypse lighting. #Spokane #wildfires\n",
       "4  11     NaN      NaN      Typhoon Soudelor kills 28 in China and Taiwan"
      ]
     },
     "execution_count": 4,
     "metadata": {},
     "output_type": "execute_result"
    }
   ],
   "source": [
    "df_test = pd.read_csv('../input/nlp-getting-started/test.csv')\n",
    "df_test.head()"
   ]
  },
  {
   "cell_type": "code",
   "execution_count": 5,
   "metadata": {
    "execution": {
     "iopub.execute_input": "2020-10-03T13:03:23.507176Z",
     "iopub.status.busy": "2020-10-03T13:03:23.506088Z",
     "iopub.status.idle": "2020-10-03T13:03:27.511339Z",
     "shell.execute_reply": "2020-10-03T13:03:27.510745Z"
    },
    "papermill": {
     "duration": 4.04384,
     "end_time": "2020-10-03T13:03:27.511467",
     "exception": false,
     "start_time": "2020-10-03T13:03:23.467627",
     "status": "completed"
    },
    "tags": []
   },
   "outputs": [
    {
     "data": {
      "text/html": [
       "<div>\n",
       "<style scoped>\n",
       "    .dataframe tbody tr th:only-of-type {\n",
       "        vertical-align: middle;\n",
       "    }\n",
       "\n",
       "    .dataframe tbody tr th {\n",
       "        vertical-align: top;\n",
       "    }\n",
       "\n",
       "    .dataframe thead th {\n",
       "        text-align: right;\n",
       "    }\n",
       "</style>\n",
       "<table border=\"1\" class=\"dataframe\">\n",
       "  <thead>\n",
       "    <tr style=\"text-align: right;\">\n",
       "      <th></th>\n",
       "      <th>id</th>\n",
       "      <th>keyword</th>\n",
       "      <th>location</th>\n",
       "      <th>text</th>\n",
       "      <th>target</th>\n",
       "    </tr>\n",
       "  </thead>\n",
       "  <tbody>\n",
       "    <tr>\n",
       "      <th>0</th>\n",
       "      <td>1</td>\n",
       "      <td>NaN</td>\n",
       "      <td>NaN</td>\n",
       "      <td>our deeds are the reason of this #earthquake m...</td>\n",
       "      <td>1</td>\n",
       "    </tr>\n",
       "    <tr>\n",
       "      <th>1</th>\n",
       "      <td>4</td>\n",
       "      <td>NaN</td>\n",
       "      <td>NaN</td>\n",
       "      <td>forest fire near la ronge sask. canada</td>\n",
       "      <td>1</td>\n",
       "    </tr>\n",
       "    <tr>\n",
       "      <th>2</th>\n",
       "      <td>5</td>\n",
       "      <td>NaN</td>\n",
       "      <td>NaN</td>\n",
       "      <td>all residents asked to 'shelter in place' are ...</td>\n",
       "      <td>1</td>\n",
       "    </tr>\n",
       "    <tr>\n",
       "      <th>3</th>\n",
       "      <td>6</td>\n",
       "      <td>NaN</td>\n",
       "      <td>NaN</td>\n",
       "      <td>13,000 people receive #wildfires evacuation or...</td>\n",
       "      <td>1</td>\n",
       "    </tr>\n",
       "    <tr>\n",
       "      <th>4</th>\n",
       "      <td>7</td>\n",
       "      <td>NaN</td>\n",
       "      <td>NaN</td>\n",
       "      <td>just got sent this photo from ruby #alaska as ...</td>\n",
       "      <td>1</td>\n",
       "    </tr>\n",
       "  </tbody>\n",
       "</table>\n",
       "</div>"
      ],
      "text/plain": [
       "   id keyword location                                               text  \\\n",
       "0   1     NaN      NaN  our deeds are the reason of this #earthquake m...   \n",
       "1   4     NaN      NaN             forest fire near la ronge sask. canada   \n",
       "2   5     NaN      NaN  all residents asked to 'shelter in place' are ...   \n",
       "3   6     NaN      NaN  13,000 people receive #wildfires evacuation or...   \n",
       "4   7     NaN      NaN  just got sent this photo from ruby #alaska as ...   \n",
       "\n",
       "   target  \n",
       "0       1  \n",
       "1       1  \n",
       "2       1  \n",
       "3       1  \n",
       "4       1  "
      ]
     },
     "execution_count": 5,
     "metadata": {},
     "output_type": "execute_result"
    }
   ],
   "source": [
    "for i in df_train.index:\n",
    "    df_train.loc[i, 'text'] = df_train.loc[i, 'text'].lower()\n",
    "df_train.head()"
   ]
  },
  {
   "cell_type": "code",
   "execution_count": 6,
   "metadata": {
    "execution": {
     "iopub.execute_input": "2020-10-03T13:03:27.577326Z",
     "iopub.status.busy": "2020-10-03T13:03:27.576389Z",
     "iopub.status.idle": "2020-10-03T13:03:28.827164Z",
     "shell.execute_reply": "2020-10-03T13:03:28.827734Z"
    },
    "papermill": {
     "duration": 1.286185,
     "end_time": "2020-10-03T13:03:28.827897",
     "exception": false,
     "start_time": "2020-10-03T13:03:27.541712",
     "status": "completed"
    },
    "tags": []
   },
   "outputs": [
    {
     "data": {
      "text/html": [
       "<div>\n",
       "<style scoped>\n",
       "    .dataframe tbody tr th:only-of-type {\n",
       "        vertical-align: middle;\n",
       "    }\n",
       "\n",
       "    .dataframe tbody tr th {\n",
       "        vertical-align: top;\n",
       "    }\n",
       "\n",
       "    .dataframe thead th {\n",
       "        text-align: right;\n",
       "    }\n",
       "</style>\n",
       "<table border=\"1\" class=\"dataframe\">\n",
       "  <thead>\n",
       "    <tr style=\"text-align: right;\">\n",
       "      <th></th>\n",
       "      <th>id</th>\n",
       "      <th>keyword</th>\n",
       "      <th>location</th>\n",
       "      <th>text</th>\n",
       "    </tr>\n",
       "  </thead>\n",
       "  <tbody>\n",
       "    <tr>\n",
       "      <th>0</th>\n",
       "      <td>0</td>\n",
       "      <td>NaN</td>\n",
       "      <td>NaN</td>\n",
       "      <td>just happened a terrible car crash</td>\n",
       "    </tr>\n",
       "    <tr>\n",
       "      <th>1</th>\n",
       "      <td>2</td>\n",
       "      <td>NaN</td>\n",
       "      <td>NaN</td>\n",
       "      <td>heard about #earthquake is different cities, s...</td>\n",
       "    </tr>\n",
       "    <tr>\n",
       "      <th>2</th>\n",
       "      <td>3</td>\n",
       "      <td>NaN</td>\n",
       "      <td>NaN</td>\n",
       "      <td>there is a forest fire at spot pond, geese are...</td>\n",
       "    </tr>\n",
       "    <tr>\n",
       "      <th>3</th>\n",
       "      <td>9</td>\n",
       "      <td>NaN</td>\n",
       "      <td>NaN</td>\n",
       "      <td>apocalypse lighting. #spokane #wildfires</td>\n",
       "    </tr>\n",
       "    <tr>\n",
       "      <th>4</th>\n",
       "      <td>11</td>\n",
       "      <td>NaN</td>\n",
       "      <td>NaN</td>\n",
       "      <td>typhoon soudelor kills 28 in china and taiwan</td>\n",
       "    </tr>\n",
       "  </tbody>\n",
       "</table>\n",
       "</div>"
      ],
      "text/plain": [
       "   id keyword location                                               text\n",
       "0   0     NaN      NaN                 just happened a terrible car crash\n",
       "1   2     NaN      NaN  heard about #earthquake is different cities, s...\n",
       "2   3     NaN      NaN  there is a forest fire at spot pond, geese are...\n",
       "3   9     NaN      NaN           apocalypse lighting. #spokane #wildfires\n",
       "4  11     NaN      NaN      typhoon soudelor kills 28 in china and taiwan"
      ]
     },
     "execution_count": 6,
     "metadata": {},
     "output_type": "execute_result"
    }
   ],
   "source": [
    "for i in df_test.index:\n",
    "    df_test.loc[i, 'text'] = df_test.loc[i, 'text'].lower()\n",
    "df_test.head()"
   ]
  },
  {
   "cell_type": "code",
   "execution_count": 7,
   "metadata": {
    "execution": {
     "iopub.execute_input": "2020-10-03T13:03:28.901240Z",
     "iopub.status.busy": "2020-10-03T13:03:28.900055Z",
     "iopub.status.idle": "2020-10-03T13:03:28.910722Z",
     "shell.execute_reply": "2020-10-03T13:03:28.910092Z"
    },
    "papermill": {
     "duration": 0.052236,
     "end_time": "2020-10-03T13:03:28.910836",
     "exception": false,
     "start_time": "2020-10-03T13:03:28.858600",
     "status": "completed"
    },
    "tags": []
   },
   "outputs": [
    {
     "data": {
      "text/html": [
       "<div>\n",
       "<style scoped>\n",
       "    .dataframe tbody tr th:only-of-type {\n",
       "        vertical-align: middle;\n",
       "    }\n",
       "\n",
       "    .dataframe tbody tr th {\n",
       "        vertical-align: top;\n",
       "    }\n",
       "\n",
       "    .dataframe thead th {\n",
       "        text-align: right;\n",
       "    }\n",
       "</style>\n",
       "<table border=\"1\" class=\"dataframe\">\n",
       "  <thead>\n",
       "    <tr style=\"text-align: right;\">\n",
       "      <th></th>\n",
       "      <th>id</th>\n",
       "      <th>text</th>\n",
       "      <th>target</th>\n",
       "    </tr>\n",
       "  </thead>\n",
       "  <tbody>\n",
       "    <tr>\n",
       "      <th>0</th>\n",
       "      <td>1</td>\n",
       "      <td>our deeds are the reason of this #earthquake m...</td>\n",
       "      <td>1</td>\n",
       "    </tr>\n",
       "    <tr>\n",
       "      <th>1</th>\n",
       "      <td>4</td>\n",
       "      <td>forest fire near la ronge sask. canada</td>\n",
       "      <td>1</td>\n",
       "    </tr>\n",
       "    <tr>\n",
       "      <th>2</th>\n",
       "      <td>5</td>\n",
       "      <td>all residents asked to 'shelter in place' are ...</td>\n",
       "      <td>1</td>\n",
       "    </tr>\n",
       "    <tr>\n",
       "      <th>3</th>\n",
       "      <td>6</td>\n",
       "      <td>13,000 people receive #wildfires evacuation or...</td>\n",
       "      <td>1</td>\n",
       "    </tr>\n",
       "    <tr>\n",
       "      <th>4</th>\n",
       "      <td>7</td>\n",
       "      <td>just got sent this photo from ruby #alaska as ...</td>\n",
       "      <td>1</td>\n",
       "    </tr>\n",
       "  </tbody>\n",
       "</table>\n",
       "</div>"
      ],
      "text/plain": [
       "   id                                               text  target\n",
       "0   1  our deeds are the reason of this #earthquake m...       1\n",
       "1   4             forest fire near la ronge sask. canada       1\n",
       "2   5  all residents asked to 'shelter in place' are ...       1\n",
       "3   6  13,000 people receive #wildfires evacuation or...       1\n",
       "4   7  just got sent this photo from ruby #alaska as ...       1"
      ]
     },
     "execution_count": 7,
     "metadata": {},
     "output_type": "execute_result"
    }
   ],
   "source": [
    "df_train.drop(['keyword', 'location'], axis = 1, inplace=True)\n",
    "df_test.drop(['keyword', 'location'], axis = 1, inplace=True)\n",
    "df_train.head()"
   ]
  },
  {
   "cell_type": "code",
   "execution_count": 8,
   "metadata": {
    "execution": {
     "iopub.execute_input": "2020-10-03T13:03:28.990319Z",
     "iopub.status.busy": "2020-10-03T13:03:28.985077Z",
     "iopub.status.idle": "2020-10-03T13:03:31.069046Z",
     "shell.execute_reply": "2020-10-03T13:03:31.069540Z"
    },
    "papermill": {
     "duration": 2.129282,
     "end_time": "2020-10-03T13:03:31.069680",
     "exception": false,
     "start_time": "2020-10-03T13:03:28.940398",
     "status": "completed"
    },
    "tags": []
   },
   "outputs": [
    {
     "data": {
      "text/plain": [
       "id        0\n",
       "text      0\n",
       "target    0\n",
       "dtype: int64"
      ]
     },
     "execution_count": 8,
     "metadata": {},
     "output_type": "execute_result"
    }
   ],
   "source": [
    "for i in df_train.loc[df_train.text.str.contains('http://[^ ]+|https://[^ ]+|www.[^ ]+')].index:\n",
    "    df_train.loc[i, 'text'] = re.sub('http://[^ ]+|https://[^ ]+|www.[^ ]+', 'URL', df_train.loc[i, 'text'])\n",
    "df_train.loc[df_train.text.str.contains('http://[^ ]+|https://[^ ]+|www.[^ ]+')].count()"
   ]
  },
  {
   "cell_type": "code",
   "execution_count": 9,
   "metadata": {
    "execution": {
     "iopub.execute_input": "2020-10-03T13:03:31.150802Z",
     "iopub.status.busy": "2020-10-03T13:03:31.145667Z",
     "iopub.status.idle": "2020-10-03T13:03:32.096918Z",
     "shell.execute_reply": "2020-10-03T13:03:32.099484Z"
    },
    "papermill": {
     "duration": 0.998389,
     "end_time": "2020-10-03T13:03:32.099692",
     "exception": false,
     "start_time": "2020-10-03T13:03:31.101303",
     "status": "completed"
    },
    "tags": []
   },
   "outputs": [
    {
     "data": {
      "text/plain": [
       "id      0\n",
       "text    0\n",
       "dtype: int64"
      ]
     },
     "execution_count": 9,
     "metadata": {},
     "output_type": "execute_result"
    }
   ],
   "source": [
    "for i in df_test.loc[df_test.text.str.contains('http://[^ ]+|https://[^ ]+|www.[^ ]+')].index:\n",
    "    df_test.loc[i, 'text'] = re.sub('http://[^ ]+|https://[^ ]+|www.[^ ]+', 'URL', df_test.loc[i, 'text'])\n",
    "df_test.loc[df_test.text.str.contains('http://[^ ]+|https://[^ ]+|www.[^ ]+')].count()"
   ]
  },
  {
   "cell_type": "code",
   "execution_count": 10,
   "metadata": {
    "execution": {
     "iopub.execute_input": "2020-10-03T13:03:32.227455Z",
     "iopub.status.busy": "2020-10-03T13:03:32.226430Z",
     "iopub.status.idle": "2020-10-03T13:03:33.983366Z",
     "shell.execute_reply": "2020-10-03T13:03:33.984142Z"
    },
    "papermill": {
     "duration": 1.817944,
     "end_time": "2020-10-03T13:03:33.984373",
     "exception": false,
     "start_time": "2020-10-03T13:03:32.166429",
     "status": "completed"
    },
    "tags": []
   },
   "outputs": [
    {
     "data": {
      "text/plain": [
       "id        2015\n",
       "text      2015\n",
       "target    2015\n",
       "dtype: int64"
      ]
     },
     "execution_count": 10,
     "metadata": {},
     "output_type": "execute_result"
    }
   ],
   "source": [
    "for i in df_train.loc[df_train.text.str.contains('@[^ ]')].index:\n",
    "    df_train.loc[i, 'text'] = re.sub('@[^ ]', '@', df_train.loc[i, 'text'])\n",
    "df_train.loc[df_train.text.str.contains('@[^ ]')].count()"
   ]
  },
  {
   "cell_type": "code",
   "execution_count": 11,
   "metadata": {
    "execution": {
     "iopub.execute_input": "2020-10-03T13:03:34.091127Z",
     "iopub.status.busy": "2020-10-03T13:03:34.090098Z",
     "iopub.status.idle": "2020-10-03T13:03:34.633344Z",
     "shell.execute_reply": "2020-10-03T13:03:34.632106Z"
    },
    "papermill": {
     "duration": 0.599357,
     "end_time": "2020-10-03T13:03:34.633468",
     "exception": false,
     "start_time": "2020-10-03T13:03:34.034111",
     "status": "completed"
    },
    "tags": []
   },
   "outputs": [
    {
     "data": {
      "text/plain": [
       "id      918\n",
       "text    918\n",
       "dtype: int64"
      ]
     },
     "execution_count": 11,
     "metadata": {},
     "output_type": "execute_result"
    }
   ],
   "source": [
    "for i in df_test.loc[df_test.text.str.contains('@[^ ]')].index:\n",
    "    df_test.loc[i, 'text'] = re.sub('@[^ ]', '@', df_test.loc[i, 'text'])\n",
    "df_test.loc[df_test.text.str.contains('@[^ ]')].count()"
   ]
  },
  {
   "cell_type": "code",
   "execution_count": 12,
   "metadata": {
    "execution": {
     "iopub.execute_input": "2020-10-03T13:03:34.716760Z",
     "iopub.status.busy": "2020-10-03T13:03:34.715902Z",
     "iopub.status.idle": "2020-10-03T13:03:39.538588Z",
     "shell.execute_reply": "2020-10-03T13:03:39.539343Z"
    },
    "papermill": {
     "duration": 4.86979,
     "end_time": "2020-10-03T13:03:39.539519",
     "exception": false,
     "start_time": "2020-10-03T13:03:34.669729",
     "status": "completed"
    },
    "tags": []
   },
   "outputs": [
    {
     "name": "stdout",
     "output_type": "stream",
     "text": [
      "23466\n"
     ]
    }
   ],
   "source": [
    "from nltk.corpus import stopwords\n",
    "from nltk.tokenize import word_tokenize\n",
    "from collections import defaultdict\n",
    "\n",
    "stopw = set(stopwords.words('english'))\n",
    "stopw.update(['\\'m'])\n",
    "wordlist = defaultdict(int)\n",
    "for i in df_train.text:\n",
    "    w = word_tokenize(i)\n",
    "    for j in w:\n",
    "        if j in stopw:\n",
    "            continue\n",
    "        wordlist[j] += 1\n",
    "for i in df_test.text:\n",
    "    w = word_tokenize(i)\n",
    "    for j in w:\n",
    "        if j in stopw:\n",
    "            continue\n",
    "        wordlist[j] += 1\n",
    "print(len(wordlist))"
   ]
  },
  {
   "cell_type": "code",
   "execution_count": 13,
   "metadata": {
    "execution": {
     "iopub.execute_input": "2020-10-03T13:03:39.614095Z",
     "iopub.status.busy": "2020-10-03T13:03:39.613076Z",
     "iopub.status.idle": "2020-10-03T13:03:39.633993Z",
     "shell.execute_reply": "2020-10-03T13:03:39.640441Z"
    },
    "papermill": {
     "duration": 0.066655,
     "end_time": "2020-10-03T13:03:39.640619",
     "exception": false,
     "start_time": "2020-10-03T13:03:39.573964",
     "status": "completed"
    },
    "tags": []
   },
   "outputs": [
    {
     "name": "stdout",
     "output_type": "stream",
     "text": [
      "URL 6765\n",
      "# 4820\n",
      "? 4446\n",
      ". 4268\n",
      "@ 4032\n",
      ": 2847\n",
      "! 1666\n",
      "... 1530\n",
      "'s 1117\n",
      "- 1094\n",
      "' 966\n",
      "; 835\n",
      "& 651\n",
      "n't 621\n",
      ") 529\n",
      "amp 510\n",
      "( 504\n",
      "like 489\n",
      "fire 357\n",
      "get 333\n"
     ]
    }
   ],
   "source": [
    "wl = sorted(wordlist, key = lambda x:wordlist[x], reverse = True)\n",
    "for i in range(20):\n",
    "    print(wl[i], wordlist[wl[i]])"
   ]
  },
  {
   "cell_type": "code",
   "execution_count": 14,
   "metadata": {
    "execution": {
     "iopub.execute_input": "2020-10-03T13:03:39.724497Z",
     "iopub.status.busy": "2020-10-03T13:03:39.723771Z",
     "iopub.status.idle": "2020-10-03T13:03:39.727986Z",
     "shell.execute_reply": "2020-10-03T13:03:39.728744Z"
    },
    "papermill": {
     "duration": 0.053172,
     "end_time": "2020-10-03T13:03:39.728908",
     "exception": false,
     "start_time": "2020-10-03T13:03:39.675736",
     "status": "completed"
    },
    "tags": []
   },
   "outputs": [
    {
     "name": "stdout",
     "output_type": "stream",
     "text": [
      "22393\n"
     ]
    }
   ],
   "source": [
    "cnt = 0\n",
    "for i in wl:\n",
    "    if wordlist[i] < 20:\n",
    "        cnt += 1\n",
    "print(cnt)"
   ]
  },
  {
   "cell_type": "code",
   "execution_count": 15,
   "metadata": {
    "execution": {
     "iopub.execute_input": "2020-10-03T13:03:39.819340Z",
     "iopub.status.busy": "2020-10-03T13:03:39.818673Z",
     "iopub.status.idle": "2020-10-03T13:03:39.824094Z",
     "shell.execute_reply": "2020-10-03T13:03:39.824978Z"
    },
    "papermill": {
     "duration": 0.060515,
     "end_time": "2020-10-03T13:03:39.825154",
     "exception": false,
     "start_time": "2020-10-03T13:03:39.764639",
     "status": "completed"
    },
    "tags": []
   },
   "outputs": [
    {
     "name": "stdout",
     "output_type": "stream",
     "text": [
      "9998\n"
     ]
    }
   ],
   "source": [
    "vocab_size = 10000 - 2\n",
    "vocab = {}\n",
    "cnt = 1\n",
    "\n",
    "for i in sorted(list(wordlist.items()), key=lambda x: x[1], reverse=True)[:vocab_size]:\n",
    "    vocab[i[0]] = cnt\n",
    "    cnt += 1\n",
    "print(len(vocab))"
   ]
  },
  {
   "cell_type": "code",
   "execution_count": 16,
   "metadata": {
    "execution": {
     "iopub.execute_input": "2020-10-03T13:03:39.951993Z",
     "iopub.status.busy": "2020-10-03T13:03:39.936488Z",
     "iopub.status.idle": "2020-10-03T13:03:42.429584Z",
     "shell.execute_reply": "2020-10-03T13:03:42.429003Z"
    },
    "papermill": {
     "duration": 2.552371,
     "end_time": "2020-10-03T13:03:42.429701",
     "exception": false,
     "start_time": "2020-10-03T13:03:39.877330",
     "status": "completed"
    },
    "tags": []
   },
   "outputs": [
    {
     "name": "stdout",
     "output_type": "stream",
     "text": [
      "7613\n"
     ]
    }
   ],
   "source": [
    "maxlen = 50\n",
    "\n",
    "train_x = []\n",
    "\n",
    "for i in df_train.index:\n",
    "    W = word_tokenize(df_train.loc[i, 'text'])\n",
    "    for w in range(len(W)):\n",
    "        try:\n",
    "            W[w] = vocab[W[w]]\n",
    "        except:\n",
    "            W[w] = vocab_size\n",
    "    if len(W) < maxlen:\n",
    "        W += [0 for i in range(maxlen-len(W))]\n",
    "    train_x.append(W[:maxlen])\n",
    "print(len(train_x))"
   ]
  },
  {
   "cell_type": "code",
   "execution_count": 17,
   "metadata": {
    "execution": {
     "iopub.execute_input": "2020-10-03T13:03:42.528435Z",
     "iopub.status.busy": "2020-10-03T13:03:42.523114Z",
     "iopub.status.idle": "2020-10-03T13:03:47.640427Z",
     "shell.execute_reply": "2020-10-03T13:03:47.641015Z"
    },
    "papermill": {
     "duration": 5.17555,
     "end_time": "2020-10-03T13:03:47.641201",
     "exception": false,
     "start_time": "2020-10-03T13:03:42.465651",
     "status": "completed"
    },
    "tags": []
   },
   "outputs": [
    {
     "name": "stdout",
     "output_type": "stream",
     "text": [
      "7613\n"
     ]
    }
   ],
   "source": [
    "FullDataset = tf.data.Dataset.from_tensor_slices({'x':train_x, 'y':df_train['target']})\n",
    "FullDataset = FullDataset.shuffle(10000)\n",
    "print(len(FullDataset))"
   ]
  },
  {
   "cell_type": "code",
   "execution_count": 18,
   "metadata": {
    "execution": {
     "iopub.execute_input": "2020-10-03T13:03:47.722192Z",
     "iopub.status.busy": "2020-10-03T13:03:47.720772Z",
     "iopub.status.idle": "2020-10-03T13:03:47.726148Z",
     "shell.execute_reply": "2020-10-03T13:03:47.726869Z"
    },
    "papermill": {
     "duration": 0.048892,
     "end_time": "2020-10-03T13:03:47.727033",
     "exception": false,
     "start_time": "2020-10-03T13:03:47.678141",
     "status": "completed"
    },
    "tags": []
   },
   "outputs": [
    {
     "name": "stdout",
     "output_type": "stream",
     "text": [
      "6852\n"
     ]
    }
   ],
   "source": [
    "TrainDataset = FullDataset.skip(len(FullDataset)//10)\n",
    "print(len(TrainDataset))"
   ]
  },
  {
   "cell_type": "code",
   "execution_count": 19,
   "metadata": {
    "execution": {
     "iopub.execute_input": "2020-10-03T13:03:47.808701Z",
     "iopub.status.busy": "2020-10-03T13:03:47.807674Z",
     "iopub.status.idle": "2020-10-03T13:03:47.812010Z",
     "shell.execute_reply": "2020-10-03T13:03:47.812606Z"
    },
    "papermill": {
     "duration": 0.046877,
     "end_time": "2020-10-03T13:03:47.812737",
     "exception": false,
     "start_time": "2020-10-03T13:03:47.765860",
     "status": "completed"
    },
    "tags": []
   },
   "outputs": [
    {
     "name": "stdout",
     "output_type": "stream",
     "text": [
      "761\n"
     ]
    }
   ],
   "source": [
    "ValidDataset = FullDataset.take(len(FullDataset)//10)\n",
    "print(len(ValidDataset))"
   ]
  },
  {
   "cell_type": "code",
   "execution_count": 20,
   "metadata": {
    "execution": {
     "iopub.execute_input": "2020-10-03T13:03:47.951506Z",
     "iopub.status.busy": "2020-10-03T13:03:47.935958Z",
     "iopub.status.idle": "2020-10-03T13:03:49.009125Z",
     "shell.execute_reply": "2020-10-03T13:03:49.008463Z"
    },
    "papermill": {
     "duration": 1.154525,
     "end_time": "2020-10-03T13:03:49.009279",
     "exception": false,
     "start_time": "2020-10-03T13:03:47.854754",
     "status": "completed"
    },
    "tags": []
   },
   "outputs": [
    {
     "name": "stdout",
     "output_type": "stream",
     "text": [
      "3263\n"
     ]
    }
   ],
   "source": [
    "maxlen = 50\n",
    "\n",
    "test_x = []\n",
    "\n",
    "for i in df_test.index:\n",
    "    W = word_tokenize(df_test.loc[i, 'text'])\n",
    "    for w in range(len(W)):\n",
    "        try:\n",
    "            W[w] = vocab[W[w]]\n",
    "        except:\n",
    "            W[w] = vocab_size\n",
    "    if len(W) < maxlen:\n",
    "        W += [0 for i in range(maxlen-len(W))]\n",
    "    test_x.append(W[:maxlen])\n",
    "print(len(test_x))"
   ]
  },
  {
   "cell_type": "code",
   "execution_count": 21,
   "metadata": {
    "execution": {
     "iopub.execute_input": "2020-10-03T13:03:49.131639Z",
     "iopub.status.busy": "2020-10-03T13:03:49.130719Z",
     "iopub.status.idle": "2020-10-03T13:03:49.175896Z",
     "shell.execute_reply": "2020-10-03T13:03:49.176565Z"
    },
    "papermill": {
     "duration": 0.128784,
     "end_time": "2020-10-03T13:03:49.176733",
     "exception": false,
     "start_time": "2020-10-03T13:03:49.047949",
     "status": "completed"
    },
    "tags": []
   },
   "outputs": [
    {
     "name": "stdout",
     "output_type": "stream",
     "text": [
      "3263\n"
     ]
    }
   ],
   "source": [
    "TestDataset = tf.convert_to_tensor(test_x)\n",
    "print(len(TestDataset))"
   ]
  },
  {
   "cell_type": "markdown",
   "metadata": {
    "papermill": {
     "duration": 0.037739,
     "end_time": "2020-10-03T13:03:49.254419",
     "exception": false,
     "start_time": "2020-10-03T13:03:49.216680",
     "status": "completed"
    },
    "tags": []
   },
   "source": [
    "# Model"
   ]
  },
  {
   "cell_type": "markdown",
   "metadata": {
    "papermill": {
     "duration": 0.036928,
     "end_time": "2020-10-03T13:03:49.331206",
     "exception": false,
     "start_time": "2020-10-03T13:03:49.294278",
     "status": "completed"
    },
    "tags": []
   },
   "source": [
    "## Positional Encoding"
   ]
  },
  {
   "cell_type": "code",
   "execution_count": 22,
   "metadata": {
    "execution": {
     "iopub.execute_input": "2020-10-03T13:03:49.419874Z",
     "iopub.status.busy": "2020-10-03T13:03:49.419060Z",
     "iopub.status.idle": "2020-10-03T13:03:49.422076Z",
     "shell.execute_reply": "2020-10-03T13:03:49.421606Z"
    },
    "papermill": {
     "duration": 0.050919,
     "end_time": "2020-10-03T13:03:49.422171",
     "exception": false,
     "start_time": "2020-10-03T13:03:49.371252",
     "status": "completed"
    },
    "tags": []
   },
   "outputs": [],
   "source": [
    "class PositionalEncoding(layers.Layer):\n",
    "    def __init__(self, pos, dim):\n",
    "        super(PositionalEncoding, self).__init__()\n",
    "        pos = tf.range(pos, dtype=tf.float32)[:, tf.newaxis],\n",
    "        i = tf.range(dim, dtype=tf.float32)[tf.newaxis, :]\n",
    "        self.encoding = self.calc(pos, i, dim)\n",
    "        \n",
    "    def calc(self, pos, i, dim):\n",
    "        ret = pos / (tf.math.pow(10000, (i//2)/tf.cast(dim, dtype=float)))\n",
    "        return ret\n",
    "        \n",
    "    def call(self, inputs):\n",
    "        return inputs + self.encoding[:, :tf.shape(inputs)[1], :]"
   ]
  },
  {
   "cell_type": "markdown",
   "metadata": {
    "papermill": {
     "duration": 0.040169,
     "end_time": "2020-10-03T13:03:49.501583",
     "exception": false,
     "start_time": "2020-10-03T13:03:49.461414",
     "status": "completed"
    },
    "tags": []
   },
   "source": [
    "## Multi Head Self Attention"
   ]
  },
  {
   "cell_type": "code",
   "execution_count": 23,
   "metadata": {
    "execution": {
     "iopub.execute_input": "2020-10-03T13:03:49.601765Z",
     "iopub.status.busy": "2020-10-03T13:03:49.600910Z",
     "iopub.status.idle": "2020-10-03T13:03:49.604369Z",
     "shell.execute_reply": "2020-10-03T13:03:49.603816Z"
    },
    "papermill": {
     "duration": 0.062753,
     "end_time": "2020-10-03T13:03:49.604478",
     "exception": false,
     "start_time": "2020-10-03T13:03:49.541725",
     "status": "completed"
    },
    "tags": []
   },
   "outputs": [],
   "source": [
    "class MultiHeadSelfAttention(layers.Layer):\n",
    "    def __init__(self, embed_dim=512, num_heads=8):\n",
    "        super(MultiHeadSelfAttention, self).__init__()\n",
    "        \n",
    "        self.embed_dim = embed_dim\n",
    "        self.num_heads = num_heads\n",
    "        if embed_dim % num_heads != 0:\n",
    "            raise ValueError('embed_dim % num_heads != 0')\n",
    "        \n",
    "        self.key = layers.Dense(embed_dim)\n",
    "        self.value = layers.Dense(embed_dim)\n",
    "        self.query = layers.Dense(embed_dim)\n",
    "        self.concat_dense = layers.Dense(embed_dim)\n",
    "        \n",
    "    def attention(self, key, value, query):\n",
    "        matm = tf.matmul(query, key, transpose_b=True)\n",
    "        key_dim = tf.cast(tf.shape(key)[-1], tf.float32)\n",
    "        scaled = matm / tf.math.sqrt(key_dim)\n",
    "        attention_weights = tf.nn.softmax(scaled, axis=-1)\n",
    "        output = tf.matmul(attention_weights, value)\n",
    "        return output, attention_weights\n",
    "    \n",
    "    def seperate_heads(self, x, batch_size):\n",
    "        x = tf.reshape(x, [batch_size, -1, self.num_heads, self.embed_dim // self.num_heads])\n",
    "        return tf.transpose(x, perm=[0, 2, 1, 3])\n",
    "    \n",
    "    def call(self, inputs):\n",
    "        batch_size = tf.shape(inputs)[0]\n",
    "        key = self.key(inputs)\n",
    "        value = self.value(inputs)\n",
    "        query = self.query(inputs)\n",
    "        key = self.seperate_heads(key, batch_size)\n",
    "        value = self.seperate_heads(value, batch_size)\n",
    "        query = self.seperate_heads(query, batch_size)\n",
    "        attention, attention_weights = self.attention(key, value, query)\n",
    "        attention = tf.transpose(attention, perm=[0,2,1,3])\n",
    "        attention = tf.reshape(attention, (batch_size, -1, self.embed_dim))\n",
    "        output = self.concat_dense(attention)\n",
    "        return output"
   ]
  },
  {
   "cell_type": "markdown",
   "metadata": {
    "papermill": {
     "duration": 0.038707,
     "end_time": "2020-10-03T13:03:49.684089",
     "exception": false,
     "start_time": "2020-10-03T13:03:49.645382",
     "status": "completed"
    },
    "tags": []
   },
   "source": [
    "## Transformer Block"
   ]
  },
  {
   "cell_type": "code",
   "execution_count": 24,
   "metadata": {
    "execution": {
     "iopub.execute_input": "2020-10-03T13:03:49.774716Z",
     "iopub.status.busy": "2020-10-03T13:03:49.773767Z",
     "iopub.status.idle": "2020-10-03T13:03:49.776401Z",
     "shell.execute_reply": "2020-10-03T13:03:49.776946Z"
    },
    "papermill": {
     "duration": 0.054647,
     "end_time": "2020-10-03T13:03:49.777063",
     "exception": false,
     "start_time": "2020-10-03T13:03:49.722416",
     "status": "completed"
    },
    "tags": []
   },
   "outputs": [],
   "source": [
    "class TransformerLayer(layers.Layer):\n",
    "    def __init__(self, dim=512, dff=2048, num_head=8, dropout_rate=0.1):\n",
    "        super(TransformerLayer, self).__init__()\n",
    "        \n",
    "        self.MultiHeadSelfAttention = MultiHeadSelfAttention(dim, num_head)\n",
    "        self.LayerNormalization1 = layers.LayerNormalization()\n",
    "        self.LayerNormalization2 = layers.LayerNormalization()\n",
    "        self.ffn1 = layers.Dense(dff, activation='relu')\n",
    "        self.ffn2 = layers.Dense(dim)\n",
    "        self.dropout1 = layers.Dropout(dropout_rate)\n",
    "        self.dropout2 = layers.Dropout(dropout_rate)\n",
    "        \n",
    "    def call(self, inputs):\n",
    "        x = self.MultiHeadSelfAttention(inputs)\n",
    "        x = self.LayerNormalization1(x+inputs)\n",
    "        x = self.dropout1(x)\n",
    "        \n",
    "        output = self.ffn1(x)\n",
    "        output = self.ffn2(output)\n",
    "        output = self.dropout2(output)\n",
    "        \n",
    "        output = self.LayerNormalization2(x+output)\n",
    "        \n",
    "        return output"
   ]
  },
  {
   "cell_type": "markdown",
   "metadata": {
    "papermill": {
     "duration": 0.040451,
     "end_time": "2020-10-03T13:03:49.857557",
     "exception": false,
     "start_time": "2020-10-03T13:03:49.817106",
     "status": "completed"
    },
    "tags": []
   },
   "source": [
    "## Transformer"
   ]
  },
  {
   "cell_type": "code",
   "execution_count": 25,
   "metadata": {
    "execution": {
     "iopub.execute_input": "2020-10-03T13:03:49.947944Z",
     "iopub.status.busy": "2020-10-03T13:03:49.947304Z",
     "iopub.status.idle": "2020-10-03T13:03:50.888306Z",
     "shell.execute_reply": "2020-10-03T13:03:50.887470Z"
    },
    "papermill": {
     "duration": 0.990699,
     "end_time": "2020-10-03T13:03:50.888423",
     "exception": false,
     "start_time": "2020-10-03T13:03:49.897724",
     "status": "completed"
    },
    "tags": []
   },
   "outputs": [],
   "source": [
    "dim = 512\n",
    "dff = 2048\n",
    "num_heads = 8\n",
    "num_layers = 1\n",
    "dropout_rate = 0.1\n",
    "maxlen = 50\n",
    "vocab_size = 10000\n",
    "\n",
    "inputs = keras.Input((maxlen,))\n",
    "x = layers.Embedding(vocab_size, dim)(inputs)\n",
    "x = PositionalEncoding(vocab_size, dim)(x)\n",
    "\n",
    "for _ in range(num_layers):\n",
    "    x = TransformerLayer(dim, dff, num_heads, dropout_rate)(x)\n",
    "\n",
    "output = layers.GlobalAveragePooling1D()(x)\n",
    "output = layers.Dropout(dropout_rate)(output)\n",
    "output = layers.Dense(16)(output)\n",
    "output = layers.Dropout(dropout_rate)(output)\n",
    "output = layers.Dense(1, activation='sigmoid')(output)\n",
    "\n",
    "model = keras.Model(inputs, output)"
   ]
  },
  {
   "cell_type": "code",
   "execution_count": 26,
   "metadata": {
    "execution": {
     "iopub.execute_input": "2020-10-03T13:03:50.978726Z",
     "iopub.status.busy": "2020-10-03T13:03:50.977791Z",
     "iopub.status.idle": "2020-10-03T13:03:50.981518Z",
     "shell.execute_reply": "2020-10-03T13:03:50.980884Z"
    },
    "papermill": {
     "duration": 0.052998,
     "end_time": "2020-10-03T13:03:50.981636",
     "exception": false,
     "start_time": "2020-10-03T13:03:50.928638",
     "status": "completed"
    },
    "tags": []
   },
   "outputs": [],
   "source": [
    "def f1_score(y_true, y_pred):\n",
    "    true_positives = K.sum(K.round(K.clip(y_true * y_pred, 0, 1)))\n",
    "    possible_positives = K.sum(K.round(K.clip(y_true, 0, 1)))\n",
    "    predicted_positives = K.sum(K.round(K.clip(y_pred, 0, 1)))\n",
    "    precision = true_positives / (predicted_positives + K.epsilon())\n",
    "    recall = true_positives / (possible_positives + K.epsilon())\n",
    "    f1_val = 2*(precision*recall)/(precision+recall+K.epsilon())\n",
    "    return f1_val"
   ]
  },
  {
   "cell_type": "code",
   "execution_count": 27,
   "metadata": {
    "execution": {
     "iopub.execute_input": "2020-10-03T13:03:51.074514Z",
     "iopub.status.busy": "2020-10-03T13:03:51.070243Z",
     "iopub.status.idle": "2020-10-03T13:03:51.081334Z",
     "shell.execute_reply": "2020-10-03T13:03:51.080826Z"
    },
    "papermill": {
     "duration": 0.059144,
     "end_time": "2020-10-03T13:03:51.081437",
     "exception": false,
     "start_time": "2020-10-03T13:03:51.022293",
     "status": "completed"
    },
    "tags": []
   },
   "outputs": [],
   "source": [
    "model.compile(optimizer='adam',\n",
    "              loss='BinaryCrossentropy',\n",
    "              metrics=[f1_score])"
   ]
  },
  {
   "cell_type": "markdown",
   "metadata": {
    "papermill": {
     "duration": 0.039678,
     "end_time": "2020-10-03T13:03:51.159572",
     "exception": false,
     "start_time": "2020-10-03T13:03:51.119894",
     "status": "completed"
    },
    "tags": []
   },
   "source": [
    "# Train"
   ]
  },
  {
   "cell_type": "code",
   "execution_count": 28,
   "metadata": {
    "execution": {
     "iopub.execute_input": "2020-10-03T13:03:51.246016Z",
     "iopub.status.busy": "2020-10-03T13:03:51.245349Z",
     "iopub.status.idle": "2020-10-03T13:03:51.251120Z",
     "shell.execute_reply": "2020-10-03T13:03:51.250624Z"
    },
    "papermill": {
     "duration": 0.050555,
     "end_time": "2020-10-03T13:03:51.251250",
     "exception": false,
     "start_time": "2020-10-03T13:03:51.200695",
     "status": "completed"
    },
    "tags": []
   },
   "outputs": [],
   "source": [
    "batch_size = 512\n",
    "TrainDataset = TrainDataset.batch(batch_size)\n",
    "ValidDataset = ValidDataset.batch(batch_size)"
   ]
  },
  {
   "cell_type": "code",
   "execution_count": 29,
   "metadata": {
    "execution": {
     "iopub.execute_input": "2020-10-03T13:03:51.343448Z",
     "iopub.status.busy": "2020-10-03T13:03:51.342413Z",
     "iopub.status.idle": "2020-10-03T13:04:33.817588Z",
     "shell.execute_reply": "2020-10-03T13:04:33.816819Z"
    },
    "papermill": {
     "duration": 42.525667,
     "end_time": "2020-10-03T13:04:33.817739",
     "exception": false,
     "start_time": "2020-10-03T13:03:51.292072",
     "status": "completed"
    },
    "tags": []
   },
   "outputs": [
    {
     "name": "stdout",
     "output_type": "stream",
     "text": [
      "epoch 0\n",
      "train\n",
      "loss : 0.7785359621047974, f1 score : 0.33854159712791443\n",
      "loss : 0.8725248575210571, f1 score : 0.5438897609710693\n",
      "valid\n",
      "loss : 1.4610300064086914, f1 score : 0.02247190847992897\n",
      "epoch 1\n",
      "train\n",
      "loss : 1.2051517963409424, f1 score : 0.03463202714920044\n",
      "loss : 0.8714373111724854, f1 score : 0.05106382071971893\n",
      "valid\n",
      "loss : 0.7592167854309082, f1 score : 0.08791207522153854\n",
      "epoch 2\n",
      "train\n",
      "loss : 0.7367075681686401, f1 score : 0.27627620100975037\n",
      "loss : 0.7664945721626282, f1 score : 0.025423726066946983\n",
      "valid\n",
      "loss : 0.727046549320221, f1 score : 0.5520361661911011\n",
      "epoch 3\n",
      "train\n",
      "loss : 0.7472227811813354, f1 score : 0.5903614163398743\n",
      "loss : 0.6948243379592896, f1 score : 0.36074262857437134\n",
      "valid\n",
      "loss : 0.7292762398719788, f1 score : 0.4480873942375183\n",
      "epoch 4\n",
      "train\n",
      "loss : 0.6983687877655029, f1 score : 0.4050632417201996\n",
      "loss : 0.6823738813400269, f1 score : 0.5472836494445801\n",
      "valid\n",
      "loss : 0.7168955206871033, f1 score : 0.07207205146551132\n",
      "epoch 5\n",
      "train\n",
      "loss : 0.6696381568908691, f1 score : 0.20512817800045013\n",
      "loss : 0.635263979434967, f1 score : 0.4487178921699524\n",
      "valid\n",
      "loss : 0.66552734375, f1 score : 0.41538456082344055\n",
      "epoch 6\n",
      "train\n",
      "loss : 0.6236872673034668, f1 score : 0.5888888835906982\n",
      "loss : 0.5983259677886963, f1 score : 0.5722713470458984\n",
      "valid\n",
      "loss : 0.5950217843055725, f1 score : 0.6060605645179749\n",
      "epoch 7\n",
      "train\n",
      "loss : 0.5965293645858765, f1 score : 0.6249999403953552\n",
      "loss : 0.5915477275848389, f1 score : 0.6505375504493713\n",
      "valid\n",
      "loss : 0.5990704894065857, f1 score : 0.6225164532661438\n",
      "epoch 8\n",
      "train\n",
      "loss : 0.5912972688674927, f1 score : 0.6567163467407227\n",
      "loss : 0.6005254983901978, f1 score : 0.5999999642372131\n",
      "valid\n",
      "loss : 0.5786020159721375, f1 score : 0.6615384221076965\n",
      "epoch 9\n",
      "train\n",
      "loss : 0.6064891815185547, f1 score : 0.6321243047714233\n",
      "loss : 0.5691189169883728, f1 score : 0.6858637928962708\n",
      "valid\n",
      "loss : 0.5777050852775574, f1 score : 0.646616518497467\n",
      "epoch 10\n",
      "train\n",
      "loss : 0.5793187618255615, f1 score : 0.6407185196876526\n",
      "loss : 0.5643907189369202, f1 score : 0.6630434393882751\n",
      "valid\n",
      "loss : 0.5797415375709534, f1 score : 0.6867468953132629\n",
      "epoch 11\n",
      "train\n",
      "loss : 0.6026479005813599, f1 score : 0.6235564947128296\n",
      "loss : 0.5991488695144653, f1 score : 0.6666666269302368\n",
      "valid\n",
      "loss : 0.5333601236343384, f1 score : 0.7808218598365784\n",
      "epoch 12\n",
      "train\n",
      "loss : 0.572079598903656, f1 score : 0.6862744688987732\n",
      "loss : 0.5806605815887451, f1 score : 0.6666666269302368\n",
      "valid\n",
      "loss : 0.5904768109321594, f1 score : 0.6709676384925842\n",
      "epoch 13\n",
      "train\n",
      "loss : 0.5828403830528259, f1 score : 0.6304348111152649\n",
      "loss : 0.6088182330131531, f1 score : 0.6259541511535645\n",
      "valid\n",
      "loss : 0.5580488443374634, f1 score : 0.7066665887832642\n",
      "epoch 14\n",
      "train\n",
      "loss : 0.5850406885147095, f1 score : 0.6145251393318176\n",
      "loss : 0.5905280113220215, f1 score : 0.6327077150344849\n",
      "valid\n",
      "loss : 0.5521789789199829, f1 score : 0.7294117212295532\n"
     ]
    }
   ],
   "source": [
    "num_epochs = 15\n",
    "best_f1 = 0\n",
    "\n",
    "for epoch in range(num_epochs):\n",
    "    model.reset_metrics()\n",
    "    \n",
    "    print('epoch {}'.format(epoch))\n",
    "    print('train')\n",
    "    TrainDataset.shuffle(10000)\n",
    "    for idx, batch in enumerate(TrainDataset):\n",
    "        result = model.train_on_batch(batch['x'], batch['y'])\n",
    "        if idx % 10 == 0:\n",
    "            print('loss : {}, f1 score : {}'.format(result[0], result[1]))\n",
    "        \n",
    "    print('valid')\n",
    "    for batch in ValidDataset:\n",
    "        loss, f1_score = model.test_on_batch(batch['x'], batch['y'], reset_metrics=False)\n",
    "    print('loss : {}, f1 score : {}'.format(result[0], result[1]))\n",
    "    if result[1] > best_f1:\n",
    "        best_f1 = result[1]\n",
    "        model.save_weights('best.h5')"
   ]
  },
  {
   "cell_type": "markdown",
   "metadata": {
    "papermill": {
     "duration": 0.055881,
     "end_time": "2020-10-03T13:04:33.929895",
     "exception": false,
     "start_time": "2020-10-03T13:04:33.874014",
     "status": "completed"
    },
    "tags": []
   },
   "source": [
    "# Predict"
   ]
  },
  {
   "cell_type": "code",
   "execution_count": 30,
   "metadata": {
    "execution": {
     "iopub.execute_input": "2020-10-03T13:04:34.068025Z",
     "iopub.status.busy": "2020-10-03T13:04:34.067096Z",
     "iopub.status.idle": "2020-10-03T13:04:34.094680Z",
     "shell.execute_reply": "2020-10-03T13:04:34.093938Z"
    },
    "papermill": {
     "duration": 0.105448,
     "end_time": "2020-10-03T13:04:34.094810",
     "exception": false,
     "start_time": "2020-10-03T13:04:33.989362",
     "status": "completed"
    },
    "tags": []
   },
   "outputs": [],
   "source": [
    "model.load_weights('best.h5')"
   ]
  },
  {
   "cell_type": "code",
   "execution_count": 31,
   "metadata": {
    "execution": {
     "iopub.execute_input": "2020-10-03T13:04:34.217453Z",
     "iopub.status.busy": "2020-10-03T13:04:34.216784Z",
     "iopub.status.idle": "2020-10-03T13:04:35.078562Z",
     "shell.execute_reply": "2020-10-03T13:04:35.076911Z"
    },
    "papermill": {
     "duration": 0.92415,
     "end_time": "2020-10-03T13:04:35.078697",
     "exception": false,
     "start_time": "2020-10-03T13:04:34.154547",
     "status": "completed"
    },
    "tags": []
   },
   "outputs": [],
   "source": [
    "target = np.round(model.predict(TestDataset)).astype(int)"
   ]
  },
  {
   "cell_type": "code",
   "execution_count": 32,
   "metadata": {
    "execution": {
     "iopub.execute_input": "2020-10-03T13:04:35.215908Z",
     "iopub.status.busy": "2020-10-03T13:04:35.215165Z",
     "iopub.status.idle": "2020-10-03T13:04:35.218728Z",
     "shell.execute_reply": "2020-10-03T13:04:35.219181Z"
    },
    "papermill": {
     "duration": 0.077167,
     "end_time": "2020-10-03T13:04:35.219319",
     "exception": false,
     "start_time": "2020-10-03T13:04:35.142152",
     "status": "completed"
    },
    "tags": []
   },
   "outputs": [
    {
     "data": {
      "text/html": [
       "<div>\n",
       "<style scoped>\n",
       "    .dataframe tbody tr th:only-of-type {\n",
       "        vertical-align: middle;\n",
       "    }\n",
       "\n",
       "    .dataframe tbody tr th {\n",
       "        vertical-align: top;\n",
       "    }\n",
       "\n",
       "    .dataframe thead th {\n",
       "        text-align: right;\n",
       "    }\n",
       "</style>\n",
       "<table border=\"1\" class=\"dataframe\">\n",
       "  <thead>\n",
       "    <tr style=\"text-align: right;\">\n",
       "      <th></th>\n",
       "      <th>id</th>\n",
       "    </tr>\n",
       "  </thead>\n",
       "  <tbody>\n",
       "    <tr>\n",
       "      <th>0</th>\n",
       "      <td>0</td>\n",
       "    </tr>\n",
       "    <tr>\n",
       "      <th>1</th>\n",
       "      <td>2</td>\n",
       "    </tr>\n",
       "    <tr>\n",
       "      <th>2</th>\n",
       "      <td>3</td>\n",
       "    </tr>\n",
       "    <tr>\n",
       "      <th>3</th>\n",
       "      <td>9</td>\n",
       "    </tr>\n",
       "    <tr>\n",
       "      <th>4</th>\n",
       "      <td>11</td>\n",
       "    </tr>\n",
       "  </tbody>\n",
       "</table>\n",
       "</div>"
      ],
      "text/plain": [
       "   id\n",
       "0   0\n",
       "1   2\n",
       "2   3\n",
       "3   9\n",
       "4  11"
      ]
     },
     "execution_count": 32,
     "metadata": {},
     "output_type": "execute_result"
    }
   ],
   "source": [
    "submission = pd.DataFrame()\n",
    "submission['id'] = df_test['id']\n",
    "submission.head()"
   ]
  },
  {
   "cell_type": "code",
   "execution_count": 33,
   "metadata": {
    "execution": {
     "iopub.execute_input": "2020-10-03T13:04:35.344980Z",
     "iopub.status.busy": "2020-10-03T13:04:35.344375Z",
     "iopub.status.idle": "2020-10-03T13:04:35.350973Z",
     "shell.execute_reply": "2020-10-03T13:04:35.350424Z"
    },
    "papermill": {
     "duration": 0.071575,
     "end_time": "2020-10-03T13:04:35.351067",
     "exception": false,
     "start_time": "2020-10-03T13:04:35.279492",
     "status": "completed"
    },
    "tags": []
   },
   "outputs": [
    {
     "data": {
      "text/html": [
       "<div>\n",
       "<style scoped>\n",
       "    .dataframe tbody tr th:only-of-type {\n",
       "        vertical-align: middle;\n",
       "    }\n",
       "\n",
       "    .dataframe tbody tr th {\n",
       "        vertical-align: top;\n",
       "    }\n",
       "\n",
       "    .dataframe thead th {\n",
       "        text-align: right;\n",
       "    }\n",
       "</style>\n",
       "<table border=\"1\" class=\"dataframe\">\n",
       "  <thead>\n",
       "    <tr style=\"text-align: right;\">\n",
       "      <th></th>\n",
       "      <th>id</th>\n",
       "    </tr>\n",
       "  </thead>\n",
       "  <tbody>\n",
       "    <tr>\n",
       "      <th>3258</th>\n",
       "      <td>10861</td>\n",
       "    </tr>\n",
       "    <tr>\n",
       "      <th>3259</th>\n",
       "      <td>10865</td>\n",
       "    </tr>\n",
       "    <tr>\n",
       "      <th>3260</th>\n",
       "      <td>10868</td>\n",
       "    </tr>\n",
       "    <tr>\n",
       "      <th>3261</th>\n",
       "      <td>10874</td>\n",
       "    </tr>\n",
       "    <tr>\n",
       "      <th>3262</th>\n",
       "      <td>10875</td>\n",
       "    </tr>\n",
       "  </tbody>\n",
       "</table>\n",
       "</div>"
      ],
      "text/plain": [
       "         id\n",
       "3258  10861\n",
       "3259  10865\n",
       "3260  10868\n",
       "3261  10874\n",
       "3262  10875"
      ]
     },
     "execution_count": 33,
     "metadata": {},
     "output_type": "execute_result"
    }
   ],
   "source": [
    "submission.tail()"
   ]
  },
  {
   "cell_type": "code",
   "execution_count": 34,
   "metadata": {
    "execution": {
     "iopub.execute_input": "2020-10-03T13:04:35.472561Z",
     "iopub.status.busy": "2020-10-03T13:04:35.471519Z",
     "iopub.status.idle": "2020-10-03T13:04:35.475670Z",
     "shell.execute_reply": "2020-10-03T13:04:35.476116Z"
    },
    "papermill": {
     "duration": 0.068507,
     "end_time": "2020-10-03T13:04:35.476248",
     "exception": false,
     "start_time": "2020-10-03T13:04:35.407741",
     "status": "completed"
    },
    "tags": []
   },
   "outputs": [
    {
     "data": {
      "text/html": [
       "<div>\n",
       "<style scoped>\n",
       "    .dataframe tbody tr th:only-of-type {\n",
       "        vertical-align: middle;\n",
       "    }\n",
       "\n",
       "    .dataframe tbody tr th {\n",
       "        vertical-align: top;\n",
       "    }\n",
       "\n",
       "    .dataframe thead th {\n",
       "        text-align: right;\n",
       "    }\n",
       "</style>\n",
       "<table border=\"1\" class=\"dataframe\">\n",
       "  <thead>\n",
       "    <tr style=\"text-align: right;\">\n",
       "      <th></th>\n",
       "      <th>id</th>\n",
       "      <th>target</th>\n",
       "    </tr>\n",
       "  </thead>\n",
       "  <tbody>\n",
       "    <tr>\n",
       "      <th>0</th>\n",
       "      <td>0</td>\n",
       "      <td>0</td>\n",
       "    </tr>\n",
       "    <tr>\n",
       "      <th>1</th>\n",
       "      <td>2</td>\n",
       "      <td>0</td>\n",
       "    </tr>\n",
       "    <tr>\n",
       "      <th>2</th>\n",
       "      <td>3</td>\n",
       "      <td>0</td>\n",
       "    </tr>\n",
       "    <tr>\n",
       "      <th>3</th>\n",
       "      <td>9</td>\n",
       "      <td>0</td>\n",
       "    </tr>\n",
       "    <tr>\n",
       "      <th>4</th>\n",
       "      <td>11</td>\n",
       "      <td>1</td>\n",
       "    </tr>\n",
       "  </tbody>\n",
       "</table>\n",
       "</div>"
      ],
      "text/plain": [
       "   id  target\n",
       "0   0       0\n",
       "1   2       0\n",
       "2   3       0\n",
       "3   9       0\n",
       "4  11       1"
      ]
     },
     "execution_count": 34,
     "metadata": {},
     "output_type": "execute_result"
    }
   ],
   "source": [
    "submission['target'] = target\n",
    "submission.head()"
   ]
  },
  {
   "cell_type": "code",
   "execution_count": 35,
   "metadata": {
    "execution": {
     "iopub.execute_input": "2020-10-03T13:04:35.595998Z",
     "iopub.status.busy": "2020-10-03T13:04:35.595425Z",
     "iopub.status.idle": "2020-10-03T13:04:35.831286Z",
     "shell.execute_reply": "2020-10-03T13:04:35.830105Z"
    },
    "papermill": {
     "duration": 0.297056,
     "end_time": "2020-10-03T13:04:35.831416",
     "exception": false,
     "start_time": "2020-10-03T13:04:35.534360",
     "status": "completed"
    },
    "tags": []
   },
   "outputs": [],
   "source": [
    "submission.to_csv('submission.csv', index=False)"
   ]
  }
 ],
 "metadata": {
  "kernelspec": {
   "display_name": "Python 3",
   "language": "python",
   "name": "python3"
  },
  "language_info": {
   "codemirror_mode": {
    "name": "ipython",
    "version": 3
   },
   "file_extension": ".py",
   "mimetype": "text/x-python",
   "name": "python",
   "nbconvert_exporter": "python",
   "pygments_lexer": "ipython3",
   "version": "3.7.6"
  },
  "papermill": {
   "duration": 84.948205,
   "end_time": "2020-10-03T13:04:37.554437",
   "environment_variables": {},
   "exception": null,
   "input_path": "__notebook__.ipynb",
   "output_path": "__notebook__.ipynb",
   "parameters": {},
   "start_time": "2020-10-03T13:03:12.606232",
   "version": "2.1.0"
  }
 },
 "nbformat": 4,
 "nbformat_minor": 4
}
